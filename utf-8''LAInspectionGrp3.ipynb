{
  "cells": [
    {
      "metadata": {
        "trusted": true
      },
      "cell_type": "code",
      "source": "import pandas as pd\nLocation = \"inspections2.csv\"\ndf1 = pd.read_csv(Location)\ndf1.head()",
      "execution_count": 1,
      "outputs": [
        {
          "output_type": "execute_result",
          "execution_count": 1,
          "data": {
            "text/html": "<div>\n<style scoped>\n    .dataframe tbody tr th:only-of-type {\n        vertical-align: middle;\n    }\n\n    .dataframe tbody tr th {\n        vertical-align: top;\n    }\n\n    .dataframe thead th {\n        text-align: right;\n    }\n</style>\n<table border=\"1\" class=\"dataframe\">\n  <thead>\n    <tr style=\"text-align: right;\">\n      <th></th>\n      <th>activity_date</th>\n      <th>employee_id</th>\n      <th>facility_address</th>\n      <th>facility_city</th>\n      <th>facility_id</th>\n      <th>facility_name</th>\n      <th>facility_state</th>\n      <th>facility_zip</th>\n      <th>grade</th>\n      <th>owner_id</th>\n      <th>owner_name</th>\n      <th>pe_description</th>\n      <th>program_element_pe</th>\n      <th>program_name</th>\n      <th>program_status</th>\n      <th>record_id</th>\n      <th>score</th>\n      <th>serial_number</th>\n      <th>service_code</th>\n      <th>service_description</th>\n    </tr>\n  </thead>\n  <tbody>\n    <tr>\n      <th>0</th>\n      <td>5/9/2017</td>\n      <td>EE0000593</td>\n      <td>17660 CHATSWORTH ST</td>\n      <td>GRANADA HILLS</td>\n      <td>FA0175397</td>\n      <td>HOVIK'S FAMOUS MEAT &amp; DELI</td>\n      <td>CA</td>\n      <td>91344</td>\n      <td>A</td>\n      <td>OW0181955</td>\n      <td>JOHN'S FAMOUS MEAT &amp; DELI INC.</td>\n      <td>FOOD MKT RETAIL (25-1,999 SF) HIGH RISK</td>\n      <td>1612</td>\n      <td>HOVIK'S FAMOUS MEAT &amp; DELI</td>\n      <td>ACTIVE</td>\n      <td>PR0168541</td>\n      <td>98</td>\n      <td>DAHDRUQZO</td>\n      <td>1</td>\n      <td>ROUTINE INSPECTION</td>\n    </tr>\n    <tr>\n      <th>1</th>\n      <td>4/10/2017</td>\n      <td>EE0000126</td>\n      <td>3615 PACIFIC COAST HWY</td>\n      <td>TORRANCE</td>\n      <td>FA0242138</td>\n      <td>SHAKEY'S PIZZA</td>\n      <td>CA</td>\n      <td>90505</td>\n      <td>A</td>\n      <td>OW0237843</td>\n      <td>SCO, LLC</td>\n      <td>RESTAURANT (61-150) SEATS HIGH RISK</td>\n      <td>1638</td>\n      <td>SHAKEY'S PIZZA</td>\n      <td>ACTIVE</td>\n      <td>PR0190290</td>\n      <td>94</td>\n      <td>DAL3SBUE0</td>\n      <td>1</td>\n      <td>ROUTINE INSPECTION</td>\n    </tr>\n    <tr>\n      <th>2</th>\n      <td>4/4/2017</td>\n      <td>EE0000593</td>\n      <td>17515 CHATSWORTH ST</td>\n      <td>GRANADA HILLS</td>\n      <td>FA0007801</td>\n      <td>BAITH AL HALAL</td>\n      <td>CA</td>\n      <td>91344</td>\n      <td>A</td>\n      <td>OW0031150</td>\n      <td>SABIR MOHAMMAD SHAHID</td>\n      <td>FOOD MKT RETAIL (25-1,999 SF) HIGH RISK</td>\n      <td>1612</td>\n      <td>BAITH AL HALAL</td>\n      <td>INACTIVE</td>\n      <td>PR0036723</td>\n      <td>95</td>\n      <td>DAL2PIKJU</td>\n      <td>1</td>\n      <td>ROUTINE INSPECTION</td>\n    </tr>\n    <tr>\n      <th>3</th>\n      <td>8/15/2017</td>\n      <td>EE0000971</td>\n      <td>44455 VALLEY CENTRAL WAY</td>\n      <td>LANCASTER</td>\n      <td>FA0013858</td>\n      <td>FOOD 4 LESS #306</td>\n      <td>CA</td>\n      <td>93536</td>\n      <td>A</td>\n      <td>OW0012108</td>\n      <td>FOOD 4 LESS, INC.</td>\n      <td>RESTAURANT (0-30) SEATS HIGH RISK</td>\n      <td>1632</td>\n      <td>FOOD 4 LESS DELI/BAKERY#306</td>\n      <td>ACTIVE</td>\n      <td>PR0039905</td>\n      <td>98</td>\n      <td>DA0ZMAJXZ</td>\n      <td>1</td>\n      <td>ROUTINE INSPECTION</td>\n    </tr>\n    <tr>\n      <th>4</th>\n      <td>9/26/2016</td>\n      <td>EE0000145</td>\n      <td>11700 SOUTH ST</td>\n      <td>ARTESIA</td>\n      <td>FA0179671</td>\n      <td>PHO LITTLE SAIGON</td>\n      <td>CA</td>\n      <td>90701</td>\n      <td>A</td>\n      <td>OW0185167</td>\n      <td>PHO SOUTH ST INC</td>\n      <td>RESTAURANT (61-150) SEATS HIGH RISK</td>\n      <td>1638</td>\n      <td>PHO LITTLE SAIGON</td>\n      <td>ACTIVE</td>\n      <td>PR0173311</td>\n      <td>96</td>\n      <td>DA41DBXA2</td>\n      <td>1</td>\n      <td>ROUTINE INSPECTION</td>\n    </tr>\n  </tbody>\n</table>\n</div>",
            "text/plain": "  activity_date employee_id          facility_address  facility_city  \\\n0      5/9/2017   EE0000593       17660 CHATSWORTH ST  GRANADA HILLS   \n1     4/10/2017   EE0000126    3615 PACIFIC COAST HWY       TORRANCE   \n2      4/4/2017   EE0000593       17515 CHATSWORTH ST  GRANADA HILLS   \n3     8/15/2017   EE0000971  44455 VALLEY CENTRAL WAY      LANCASTER   \n4     9/26/2016   EE0000145            11700 SOUTH ST        ARTESIA   \n\n  facility_id               facility_name facility_state  facility_zip grade  \\\n0   FA0175397  HOVIK'S FAMOUS MEAT & DELI             CA         91344     A   \n1   FA0242138              SHAKEY'S PIZZA             CA         90505     A   \n2   FA0007801              BAITH AL HALAL             CA         91344     A   \n3   FA0013858            FOOD 4 LESS #306             CA         93536     A   \n4   FA0179671           PHO LITTLE SAIGON             CA         90701     A   \n\n    owner_id                      owner_name  \\\n0  OW0181955  JOHN'S FAMOUS MEAT & DELI INC.   \n1  OW0237843                        SCO, LLC   \n2  OW0031150           SABIR MOHAMMAD SHAHID   \n3  OW0012108               FOOD 4 LESS, INC.   \n4  OW0185167                PHO SOUTH ST INC   \n\n                            pe_description  program_element_pe  \\\n0  FOOD MKT RETAIL (25-1,999 SF) HIGH RISK                1612   \n1      RESTAURANT (61-150) SEATS HIGH RISK                1638   \n2  FOOD MKT RETAIL (25-1,999 SF) HIGH RISK                1612   \n3        RESTAURANT (0-30) SEATS HIGH RISK                1632   \n4      RESTAURANT (61-150) SEATS HIGH RISK                1638   \n\n                  program_name program_status  record_id  score serial_number  \\\n0   HOVIK'S FAMOUS MEAT & DELI         ACTIVE  PR0168541     98     DAHDRUQZO   \n1               SHAKEY'S PIZZA         ACTIVE  PR0190290     94     DAL3SBUE0   \n2               BAITH AL HALAL       INACTIVE  PR0036723     95     DAL2PIKJU   \n3  FOOD 4 LESS DELI/BAKERY#306         ACTIVE  PR0039905     98     DA0ZMAJXZ   \n4            PHO LITTLE SAIGON         ACTIVE  PR0173311     96     DA41DBXA2   \n\n   service_code service_description  \n0             1  ROUTINE INSPECTION  \n1             1  ROUTINE INSPECTION  \n2             1  ROUTINE INSPECTION  \n3             1  ROUTINE INSPECTION  \n4             1  ROUTINE INSPECTION  "
          },
          "metadata": {}
        }
      ]
    },
    {
      "metadata": {
        "trusted": true
      },
      "cell_type": "code",
      "source": "Location2 = \"violations.csv\"\ndf2 = pd.read_csv(Location2)\ndf2.head()",
      "execution_count": 2,
      "outputs": [
        {
          "output_type": "execute_result",
          "execution_count": 2,
          "data": {
            "text/html": "<div>\n<style scoped>\n    .dataframe tbody tr th:only-of-type {\n        vertical-align: middle;\n    }\n\n    .dataframe tbody tr th {\n        vertical-align: top;\n    }\n\n    .dataframe thead th {\n        text-align: right;\n    }\n</style>\n<table border=\"1\" class=\"dataframe\">\n  <thead>\n    <tr style=\"text-align: right;\">\n      <th></th>\n      <th>points</th>\n      <th>serial_number</th>\n      <th>violation_code</th>\n      <th>violation_description</th>\n      <th>violation_status</th>\n    </tr>\n  </thead>\n  <tbody>\n    <tr>\n      <th>0</th>\n      <td>1</td>\n      <td>DAJ5UNMSF</td>\n      <td>F044</td>\n      <td># 44. Floors, walls and ceilings: properly bui...</td>\n      <td>OUT OF COMPLIANCE</td>\n    </tr>\n    <tr>\n      <th>1</th>\n      <td>4</td>\n      <td>DAT2HKIRE</td>\n      <td>F007</td>\n      <td># 07. Proper hot and cold holding temperatures</td>\n      <td>OUT OF COMPLIANCE</td>\n    </tr>\n    <tr>\n      <th>2</th>\n      <td>1</td>\n      <td>DAT2HKIRE</td>\n      <td>F033</td>\n      <td># 33. Nonfood-contact surfaces clean and in go...</td>\n      <td>OUT OF COMPLIANCE</td>\n    </tr>\n    <tr>\n      <th>3</th>\n      <td>1</td>\n      <td>DAT2HKIRE</td>\n      <td>F035</td>\n      <td># 35. Equipment/Utensils - approved; installed...</td>\n      <td>OUT OF COMPLIANCE</td>\n    </tr>\n    <tr>\n      <th>4</th>\n      <td>1</td>\n      <td>DAQN0I8EA</td>\n      <td>F033</td>\n      <td># 33. Nonfood-contact surfaces clean and in go...</td>\n      <td>OUT OF COMPLIANCE</td>\n    </tr>\n  </tbody>\n</table>\n</div>",
            "text/plain": "   points serial_number violation_code  \\\n0       1     DAJ5UNMSF           F044   \n1       4     DAT2HKIRE           F007   \n2       1     DAT2HKIRE           F033   \n3       1     DAT2HKIRE           F035   \n4       1     DAQN0I8EA           F033   \n\n                               violation_description   violation_status  \n0  # 44. Floors, walls and ceilings: properly bui...  OUT OF COMPLIANCE  \n1     # 07. Proper hot and cold holding temperatures  OUT OF COMPLIANCE  \n2  # 33. Nonfood-contact surfaces clean and in go...  OUT OF COMPLIANCE  \n3  # 35. Equipment/Utensils - approved; installed...  OUT OF COMPLIANCE  \n4  # 33. Nonfood-contact surfaces clean and in go...  OUT OF COMPLIANCE  "
          },
          "metadata": {}
        }
      ]
    },
    {
      "metadata": {
        "trusted": true
      },
      "cell_type": "code",
      "source": "df1.shape",
      "execution_count": 3,
      "outputs": [
        {
          "output_type": "execute_result",
          "execution_count": 3,
          "data": {
            "text/plain": "(191371, 20)"
          },
          "metadata": {}
        }
      ]
    },
    {
      "metadata": {
        "trusted": true
      },
      "cell_type": "code",
      "source": "df1.describe()\n#No missing data\n#dependent variable is Score.",
      "execution_count": 4,
      "outputs": [
        {
          "output_type": "execute_result",
          "execution_count": 4,
          "data": {
            "text/html": "<div>\n<style scoped>\n    .dataframe tbody tr th:only-of-type {\n        vertical-align: middle;\n    }\n\n    .dataframe tbody tr th {\n        vertical-align: top;\n    }\n\n    .dataframe thead th {\n        text-align: right;\n    }\n</style>\n<table border=\"1\" class=\"dataframe\">\n  <thead>\n    <tr style=\"text-align: right;\">\n      <th></th>\n      <th>facility_zip</th>\n      <th>program_element_pe</th>\n      <th>score</th>\n      <th>service_code</th>\n    </tr>\n  </thead>\n  <tbody>\n    <tr>\n      <th>count</th>\n      <td>191371.000000</td>\n      <td>191371.000000</td>\n      <td>191371.000000</td>\n      <td>191371.000000</td>\n    </tr>\n    <tr>\n      <th>mean</th>\n      <td>90809.459908</td>\n      <td>1629.888980</td>\n      <td>93.753306</td>\n      <td>7.078246</td>\n    </tr>\n    <tr>\n      <th>std</th>\n      <td>789.110620</td>\n      <td>9.391426</td>\n      <td>3.845518</td>\n      <td>48.932257</td>\n    </tr>\n    <tr>\n      <th>min</th>\n      <td>90001.000000</td>\n      <td>1610.000000</td>\n      <td>54.000000</td>\n      <td>1.000000</td>\n    </tr>\n    <tr>\n      <th>25%</th>\n      <td>90057.000000</td>\n      <td>1631.000000</td>\n      <td>91.000000</td>\n      <td>1.000000</td>\n    </tr>\n    <tr>\n      <th>50%</th>\n      <td>90640.000000</td>\n      <td>1632.000000</td>\n      <td>94.000000</td>\n      <td>1.000000</td>\n    </tr>\n    <tr>\n      <th>75%</th>\n      <td>91401.000000</td>\n      <td>1635.000000</td>\n      <td>97.000000</td>\n      <td>1.000000</td>\n    </tr>\n    <tr>\n      <th>max</th>\n      <td>93591.000000</td>\n      <td>1641.000000</td>\n      <td>100.000000</td>\n      <td>401.000000</td>\n    </tr>\n  </tbody>\n</table>\n</div>",
            "text/plain": "        facility_zip  program_element_pe          score   service_code\ncount  191371.000000       191371.000000  191371.000000  191371.000000\nmean    90809.459908         1629.888980      93.753306       7.078246\nstd       789.110620            9.391426       3.845518      48.932257\nmin     90001.000000         1610.000000      54.000000       1.000000\n25%     90057.000000         1631.000000      91.000000       1.000000\n50%     90640.000000         1632.000000      94.000000       1.000000\n75%     91401.000000         1635.000000      97.000000       1.000000\nmax     93591.000000         1641.000000     100.000000     401.000000"
          },
          "metadata": {}
        }
      ]
    },
    {
      "metadata": {
        "trusted": true,
        "scrolled": true
      },
      "cell_type": "code",
      "source": "categorical = df1.dtypes[df1.dtypes == \"object\"].index\nprint(categorical)\ndf1[categorical].describe()\n# Most of the facilities inspected are in Los Angeles(53669/191371), that is 28%.\n# Most of the facilities got an A (181278/191371), i.e. 95%",
      "execution_count": 5,
      "outputs": [
        {
          "output_type": "stream",
          "text": "Index(['activity_date', 'employee_id', 'facility_address', 'facility_city',\n       'facility_id', 'facility_name', 'facility_state', 'grade', 'owner_id',\n       'owner_name', 'pe_description', 'program_name', 'program_status',\n       'record_id', 'serial_number', 'service_description'],\n      dtype='object')\n",
          "name": "stdout"
        },
        {
          "output_type": "execute_result",
          "execution_count": 5,
          "data": {
            "text/html": "<div>\n<style scoped>\n    .dataframe tbody tr th:only-of-type {\n        vertical-align: middle;\n    }\n\n    .dataframe tbody tr th {\n        vertical-align: top;\n    }\n\n    .dataframe thead th {\n        text-align: right;\n    }\n</style>\n<table border=\"1\" class=\"dataframe\">\n  <thead>\n    <tr style=\"text-align: right;\">\n      <th></th>\n      <th>activity_date</th>\n      <th>employee_id</th>\n      <th>facility_address</th>\n      <th>facility_city</th>\n      <th>facility_id</th>\n      <th>facility_name</th>\n      <th>facility_state</th>\n      <th>grade</th>\n      <th>owner_id</th>\n      <th>owner_name</th>\n      <th>pe_description</th>\n      <th>program_name</th>\n      <th>program_status</th>\n      <th>record_id</th>\n      <th>serial_number</th>\n      <th>service_description</th>\n    </tr>\n  </thead>\n  <tbody>\n    <tr>\n      <th>count</th>\n      <td>191371</td>\n      <td>191371</td>\n      <td>191371</td>\n      <td>191371</td>\n      <td>191371</td>\n      <td>191371</td>\n      <td>191371</td>\n      <td>191371</td>\n      <td>191371</td>\n      <td>191371</td>\n      <td>191371</td>\n      <td>190969</td>\n      <td>191371</td>\n      <td>191371</td>\n      <td>191371</td>\n      <td>191371</td>\n    </tr>\n    <tr>\n      <th>unique</th>\n      <td>742</td>\n      <td>250</td>\n      <td>39283</td>\n      <td>181</td>\n      <td>44031</td>\n      <td>36627</td>\n      <td>3</td>\n      <td>4</td>\n      <td>35713</td>\n      <td>34708</td>\n      <td>18</td>\n      <td>38988</td>\n      <td>2</td>\n      <td>47445</td>\n      <td>191371</td>\n      <td>2</td>\n    </tr>\n    <tr>\n      <th>top</th>\n      <td>8/9/2016</td>\n      <td>EE0000721</td>\n      <td>1000 VIN SCULLY AVE</td>\n      <td>LOS ANGELES</td>\n      <td>FA0019271</td>\n      <td>SUBWAY</td>\n      <td>CA</td>\n      <td>A</td>\n      <td>OW0029458</td>\n      <td>RALPHS GROCERY COMPANY</td>\n      <td>RESTAURANT (0-30) SEATS HIGH RISK</td>\n      <td>SUBWAY</td>\n      <td>ACTIVE</td>\n      <td>PR0164507</td>\n      <td>DAWL3YVAZ</td>\n      <td>ROUTINE INSPECTION</td>\n    </tr>\n    <tr>\n      <th>freq</th>\n      <td>562</td>\n      <td>4006</td>\n      <td>383</td>\n      <td>53669</td>\n      <td>380</td>\n      <td>576</td>\n      <td>191317</td>\n      <td>181278</td>\n      <td>2134</td>\n      <td>2134</td>\n      <td>38881</td>\n      <td>630</td>\n      <td>169477</td>\n      <td>10</td>\n      <td>1</td>\n      <td>188463</td>\n    </tr>\n  </tbody>\n</table>\n</div>",
            "text/plain": "       activity_date employee_id     facility_address facility_city  \\\ncount         191371      191371               191371        191371   \nunique           742         250                39283           181   \ntop         8/9/2016   EE0000721  1000 VIN SCULLY AVE   LOS ANGELES   \nfreq             562        4006                  383         53669   \n\n       facility_id facility_name facility_state   grade   owner_id  \\\ncount       191371        191371         191371  191371     191371   \nunique       44031         36627              3       4      35713   \ntop      FA0019271        SUBWAY             CA       A  OW0029458   \nfreq           380           576         191317  181278       2134   \n\n                    owner_name                     pe_description  \\\ncount                   191371                             191371   \nunique                   34708                                 18   \ntop     RALPHS GROCERY COMPANY  RESTAURANT (0-30) SEATS HIGH RISK   \nfreq                      2134                              38881   \n\n       program_name program_status  record_id serial_number  \\\ncount        190969         191371     191371        191371   \nunique        38988              2      47445        191371   \ntop          SUBWAY         ACTIVE  PR0164507     DAWL3YVAZ   \nfreq            630         169477         10             1   \n\n       service_description  \ncount               191371  \nunique                   2  \ntop     ROUTINE INSPECTION  \nfreq                188463  "
          },
          "metadata": {}
        }
      ]
    },
    {
      "metadata": {
        "trusted": true
      },
      "cell_type": "code",
      "source": "df2.shape",
      "execution_count": 6,
      "outputs": [
        {
          "output_type": "execute_result",
          "execution_count": 6,
          "data": {
            "text/plain": "(906014, 5)"
          },
          "metadata": {}
        }
      ]
    },
    {
      "metadata": {
        "trusted": true
      },
      "cell_type": "code",
      "source": "df2.describe()",
      "execution_count": 7,
      "outputs": [
        {
          "output_type": "execute_result",
          "execution_count": 7,
          "data": {
            "text/html": "<div>\n<style scoped>\n    .dataframe tbody tr th:only-of-type {\n        vertical-align: middle;\n    }\n\n    .dataframe tbody tr th {\n        vertical-align: top;\n    }\n\n    .dataframe thead th {\n        text-align: right;\n    }\n</style>\n<table border=\"1\" class=\"dataframe\">\n  <thead>\n    <tr style=\"text-align: right;\">\n      <th></th>\n      <th>points</th>\n    </tr>\n  </thead>\n  <tbody>\n    <tr>\n      <th>count</th>\n      <td>906014.000000</td>\n    </tr>\n    <tr>\n      <th>mean</th>\n      <td>1.331127</td>\n    </tr>\n    <tr>\n      <th>std</th>\n      <td>0.807775</td>\n    </tr>\n    <tr>\n      <th>min</th>\n      <td>0.000000</td>\n    </tr>\n    <tr>\n      <th>25%</th>\n      <td>1.000000</td>\n    </tr>\n    <tr>\n      <th>50%</th>\n      <td>1.000000</td>\n    </tr>\n    <tr>\n      <th>75%</th>\n      <td>1.000000</td>\n    </tr>\n    <tr>\n      <th>max</th>\n      <td>11.000000</td>\n    </tr>\n  </tbody>\n</table>\n</div>",
            "text/plain": "              points\ncount  906014.000000\nmean        1.331127\nstd         0.807775\nmin         0.000000\n25%         1.000000\n50%         1.000000\n75%         1.000000\nmax        11.000000"
          },
          "metadata": {}
        }
      ]
    },
    {
      "metadata": {
        "trusted": true
      },
      "cell_type": "code",
      "source": "categorical = df2.dtypes[df2.dtypes == \"object\"].index\nprint(categorical)\ndf2[categorical].describe()\n#Most common violation code is F044\n# The serial number with most frequent violations is DA0JOOEF0",
      "execution_count": 8,
      "outputs": [
        {
          "output_type": "stream",
          "text": "Index(['serial_number', 'violation_code', 'violation_description',\n       'violation_status'],\n      dtype='object')\n",
          "name": "stdout"
        },
        {
          "output_type": "execute_result",
          "execution_count": 8,
          "data": {
            "text/html": "<div>\n<style scoped>\n    .dataframe tbody tr th:only-of-type {\n        vertical-align: middle;\n    }\n\n    .dataframe tbody tr th {\n        vertical-align: top;\n    }\n\n    .dataframe thead th {\n        text-align: right;\n    }\n</style>\n<table border=\"1\" class=\"dataframe\">\n  <thead>\n    <tr style=\"text-align: right;\">\n      <th></th>\n      <th>serial_number</th>\n      <th>violation_code</th>\n      <th>violation_description</th>\n      <th>violation_status</th>\n    </tr>\n  </thead>\n  <tbody>\n    <tr>\n      <th>count</th>\n      <td>906014</td>\n      <td>906014</td>\n      <td>906014</td>\n      <td>906014</td>\n    </tr>\n    <tr>\n      <th>unique</th>\n      <td>190828</td>\n      <td>116</td>\n      <td>112</td>\n      <td>2</td>\n    </tr>\n    <tr>\n      <th>top</th>\n      <td>DA0JOOEF0</td>\n      <td>F044</td>\n      <td># 44. Floors, walls and ceilings: properly bui...</td>\n      <td>OUT OF COMPLIANCE</td>\n    </tr>\n    <tr>\n      <th>freq</th>\n      <td>111</td>\n      <td>102012</td>\n      <td>102012</td>\n      <td>906013</td>\n    </tr>\n  </tbody>\n</table>\n</div>",
            "text/plain": "       serial_number violation_code  \\\ncount         906014         906014   \nunique        190828            116   \ntop        DA0JOOEF0           F044   \nfreq             111         102012   \n\n                                    violation_description   violation_status  \ncount                                              906014             906014  \nunique                                                112                  2  \ntop     # 44. Floors, walls and ceilings: properly bui...  OUT OF COMPLIANCE  \nfreq                                               102012             906013  "
          },
          "metadata": {}
        }
      ]
    },
    {
      "metadata": {
        "trusted": true
      },
      "cell_type": "code",
      "source": "del df1[\"employee_id\"]\ndel df1[\"facility_address\"]\ndel df1[\"facility_id\"]\ndel df1[\"facility_name\"]\ndel df1[\"facility_state\"]\ndel df1[\"owner_id\"]\ndel df1[\"owner_name\"]\ndel df1[\"program_name\"]\ndel df1[\"program_status\"]\ndel df1[\"record_id\"]\ndel df1[\"service_code\"]\ndel df1[\"service_description\"]\ndf1.head()",
      "execution_count": 9,
      "outputs": [
        {
          "output_type": "execute_result",
          "execution_count": 9,
          "data": {
            "text/html": "<div>\n<style scoped>\n    .dataframe tbody tr th:only-of-type {\n        vertical-align: middle;\n    }\n\n    .dataframe tbody tr th {\n        vertical-align: top;\n    }\n\n    .dataframe thead th {\n        text-align: right;\n    }\n</style>\n<table border=\"1\" class=\"dataframe\">\n  <thead>\n    <tr style=\"text-align: right;\">\n      <th></th>\n      <th>activity_date</th>\n      <th>facility_city</th>\n      <th>facility_zip</th>\n      <th>grade</th>\n      <th>pe_description</th>\n      <th>program_element_pe</th>\n      <th>score</th>\n      <th>serial_number</th>\n    </tr>\n  </thead>\n  <tbody>\n    <tr>\n      <th>0</th>\n      <td>5/9/2017</td>\n      <td>GRANADA HILLS</td>\n      <td>91344</td>\n      <td>A</td>\n      <td>FOOD MKT RETAIL (25-1,999 SF) HIGH RISK</td>\n      <td>1612</td>\n      <td>98</td>\n      <td>DAHDRUQZO</td>\n    </tr>\n    <tr>\n      <th>1</th>\n      <td>4/10/2017</td>\n      <td>TORRANCE</td>\n      <td>90505</td>\n      <td>A</td>\n      <td>RESTAURANT (61-150) SEATS HIGH RISK</td>\n      <td>1638</td>\n      <td>94</td>\n      <td>DAL3SBUE0</td>\n    </tr>\n    <tr>\n      <th>2</th>\n      <td>4/4/2017</td>\n      <td>GRANADA HILLS</td>\n      <td>91344</td>\n      <td>A</td>\n      <td>FOOD MKT RETAIL (25-1,999 SF) HIGH RISK</td>\n      <td>1612</td>\n      <td>95</td>\n      <td>DAL2PIKJU</td>\n    </tr>\n    <tr>\n      <th>3</th>\n      <td>8/15/2017</td>\n      <td>LANCASTER</td>\n      <td>93536</td>\n      <td>A</td>\n      <td>RESTAURANT (0-30) SEATS HIGH RISK</td>\n      <td>1632</td>\n      <td>98</td>\n      <td>DA0ZMAJXZ</td>\n    </tr>\n    <tr>\n      <th>4</th>\n      <td>9/26/2016</td>\n      <td>ARTESIA</td>\n      <td>90701</td>\n      <td>A</td>\n      <td>RESTAURANT (61-150) SEATS HIGH RISK</td>\n      <td>1638</td>\n      <td>96</td>\n      <td>DA41DBXA2</td>\n    </tr>\n  </tbody>\n</table>\n</div>",
            "text/plain": "  activity_date  facility_city  facility_zip grade  \\\n0      5/9/2017  GRANADA HILLS         91344     A   \n1     4/10/2017       TORRANCE         90505     A   \n2      4/4/2017  GRANADA HILLS         91344     A   \n3     8/15/2017      LANCASTER         93536     A   \n4     9/26/2016        ARTESIA         90701     A   \n\n                            pe_description  program_element_pe  score  \\\n0  FOOD MKT RETAIL (25-1,999 SF) HIGH RISK                1612     98   \n1      RESTAURANT (61-150) SEATS HIGH RISK                1638     94   \n2  FOOD MKT RETAIL (25-1,999 SF) HIGH RISK                1612     95   \n3        RESTAURANT (0-30) SEATS HIGH RISK                1632     98   \n4      RESTAURANT (61-150) SEATS HIGH RISK                1638     96   \n\n  serial_number  \n0     DAHDRUQZO  \n1     DAL3SBUE0  \n2     DAL2PIKJU  \n3     DA0ZMAJXZ  \n4     DA41DBXA2  "
          },
          "metadata": {}
        }
      ]
    },
    {
      "metadata": {
        "trusted": true
      },
      "cell_type": "code",
      "source": "df1['Date'] = pd.to_datetime(df1['activity_date'])\ndf = pd.DataFrame(df1)\ndf['Year'] = df['Date'].dt.year\ndf['Quarter'] = df['Date'].dt.quarter\ndf1.head()",
      "execution_count": 10,
      "outputs": [
        {
          "output_type": "execute_result",
          "execution_count": 10,
          "data": {
            "text/html": "<div>\n<style scoped>\n    .dataframe tbody tr th:only-of-type {\n        vertical-align: middle;\n    }\n\n    .dataframe tbody tr th {\n        vertical-align: top;\n    }\n\n    .dataframe thead th {\n        text-align: right;\n    }\n</style>\n<table border=\"1\" class=\"dataframe\">\n  <thead>\n    <tr style=\"text-align: right;\">\n      <th></th>\n      <th>activity_date</th>\n      <th>facility_city</th>\n      <th>facility_zip</th>\n      <th>grade</th>\n      <th>pe_description</th>\n      <th>program_element_pe</th>\n      <th>score</th>\n      <th>serial_number</th>\n      <th>Date</th>\n      <th>Year</th>\n      <th>Quarter</th>\n    </tr>\n  </thead>\n  <tbody>\n    <tr>\n      <th>0</th>\n      <td>5/9/2017</td>\n      <td>GRANADA HILLS</td>\n      <td>91344</td>\n      <td>A</td>\n      <td>FOOD MKT RETAIL (25-1,999 SF) HIGH RISK</td>\n      <td>1612</td>\n      <td>98</td>\n      <td>DAHDRUQZO</td>\n      <td>2017-05-09</td>\n      <td>2017</td>\n      <td>2</td>\n    </tr>\n    <tr>\n      <th>1</th>\n      <td>4/10/2017</td>\n      <td>TORRANCE</td>\n      <td>90505</td>\n      <td>A</td>\n      <td>RESTAURANT (61-150) SEATS HIGH RISK</td>\n      <td>1638</td>\n      <td>94</td>\n      <td>DAL3SBUE0</td>\n      <td>2017-04-10</td>\n      <td>2017</td>\n      <td>2</td>\n    </tr>\n    <tr>\n      <th>2</th>\n      <td>4/4/2017</td>\n      <td>GRANADA HILLS</td>\n      <td>91344</td>\n      <td>A</td>\n      <td>FOOD MKT RETAIL (25-1,999 SF) HIGH RISK</td>\n      <td>1612</td>\n      <td>95</td>\n      <td>DAL2PIKJU</td>\n      <td>2017-04-04</td>\n      <td>2017</td>\n      <td>2</td>\n    </tr>\n    <tr>\n      <th>3</th>\n      <td>8/15/2017</td>\n      <td>LANCASTER</td>\n      <td>93536</td>\n      <td>A</td>\n      <td>RESTAURANT (0-30) SEATS HIGH RISK</td>\n      <td>1632</td>\n      <td>98</td>\n      <td>DA0ZMAJXZ</td>\n      <td>2017-08-15</td>\n      <td>2017</td>\n      <td>3</td>\n    </tr>\n    <tr>\n      <th>4</th>\n      <td>9/26/2016</td>\n      <td>ARTESIA</td>\n      <td>90701</td>\n      <td>A</td>\n      <td>RESTAURANT (61-150) SEATS HIGH RISK</td>\n      <td>1638</td>\n      <td>96</td>\n      <td>DA41DBXA2</td>\n      <td>2016-09-26</td>\n      <td>2016</td>\n      <td>3</td>\n    </tr>\n  </tbody>\n</table>\n</div>",
            "text/plain": "  activity_date  facility_city  facility_zip grade  \\\n0      5/9/2017  GRANADA HILLS         91344     A   \n1     4/10/2017       TORRANCE         90505     A   \n2      4/4/2017  GRANADA HILLS         91344     A   \n3     8/15/2017      LANCASTER         93536     A   \n4     9/26/2016        ARTESIA         90701     A   \n\n                            pe_description  program_element_pe  score  \\\n0  FOOD MKT RETAIL (25-1,999 SF) HIGH RISK                1612     98   \n1      RESTAURANT (61-150) SEATS HIGH RISK                1638     94   \n2  FOOD MKT RETAIL (25-1,999 SF) HIGH RISK                1612     95   \n3        RESTAURANT (0-30) SEATS HIGH RISK                1632     98   \n4      RESTAURANT (61-150) SEATS HIGH RISK                1638     96   \n\n  serial_number       Date  Year  Quarter  \n0     DAHDRUQZO 2017-05-09  2017        2  \n1     DAL3SBUE0 2017-04-10  2017        2  \n2     DAL2PIKJU 2017-04-04  2017        2  \n3     DA0ZMAJXZ 2017-08-15  2017        3  \n4     DA41DBXA2 2016-09-26  2016        3  "
          },
          "metadata": {}
        }
      ]
    },
    {
      "metadata": {
        "trusted": true
      },
      "cell_type": "code",
      "source": "import numpy as np\ndf1['highrisk'] = df1['program_element_pe'].isin([1612,1615,1632,1635,1638,1641]).astype(int)\ndf1.tail()",
      "execution_count": 11,
      "outputs": [
        {
          "output_type": "execute_result",
          "execution_count": 11,
          "data": {
            "text/html": "<div>\n<style scoped>\n    .dataframe tbody tr th:only-of-type {\n        vertical-align: middle;\n    }\n\n    .dataframe tbody tr th {\n        vertical-align: top;\n    }\n\n    .dataframe thead th {\n        text-align: right;\n    }\n</style>\n<table border=\"1\" class=\"dataframe\">\n  <thead>\n    <tr style=\"text-align: right;\">\n      <th></th>\n      <th>activity_date</th>\n      <th>facility_city</th>\n      <th>facility_zip</th>\n      <th>grade</th>\n      <th>pe_description</th>\n      <th>program_element_pe</th>\n      <th>score</th>\n      <th>serial_number</th>\n      <th>Date</th>\n      <th>Year</th>\n      <th>Quarter</th>\n      <th>highrisk</th>\n    </tr>\n  </thead>\n  <tbody>\n    <tr>\n      <th>191366</th>\n      <td>5/10/2016</td>\n      <td>LOS ANGELES</td>\n      <td>90005</td>\n      <td>A</td>\n      <td>RESTAURANT (0-30) SEATS LOW RISK</td>\n      <td>1630</td>\n      <td>98</td>\n      <td>DAQW0V2BJ</td>\n      <td>2016-05-10</td>\n      <td>2016</td>\n      <td>2</td>\n      <td>0</td>\n    </tr>\n    <tr>\n      <th>191367</th>\n      <td>8/17/2016</td>\n      <td>GARDENA</td>\n      <td>90249</td>\n      <td>A</td>\n      <td>RESTAURANT (0-30) SEATS HIGH RISK</td>\n      <td>1632</td>\n      <td>92</td>\n      <td>DAV0HVX0C</td>\n      <td>2016-08-17</td>\n      <td>2016</td>\n      <td>3</td>\n      <td>1</td>\n    </tr>\n    <tr>\n      <th>191368</th>\n      <td>6/30/2016</td>\n      <td>ARTESIA</td>\n      <td>90701</td>\n      <td>A</td>\n      <td>RESTAURANT (31-60) SEATS HIGH RISK</td>\n      <td>1635</td>\n      <td>90</td>\n      <td>DATL8XDYB</td>\n      <td>2016-06-30</td>\n      <td>2016</td>\n      <td>2</td>\n      <td>1</td>\n    </tr>\n    <tr>\n      <th>191369</th>\n      <td>12/6/2016</td>\n      <td>SAN PEDRO</td>\n      <td>90731</td>\n      <td>A</td>\n      <td>RESTAURANT (31-60) SEATS HIGH RISK</td>\n      <td>1635</td>\n      <td>92</td>\n      <td>DA3FOEGAF</td>\n      <td>2016-12-06</td>\n      <td>2016</td>\n      <td>4</td>\n      <td>1</td>\n    </tr>\n    <tr>\n      <th>191370</th>\n      <td>3/20/2017</td>\n      <td>LOS ANGELES</td>\n      <td>90007</td>\n      <td>A</td>\n      <td>RESTAURANT (0-30) SEATS HIGH RISK</td>\n      <td>1632</td>\n      <td>95</td>\n      <td>DAOU061N2</td>\n      <td>2017-03-20</td>\n      <td>2017</td>\n      <td>1</td>\n      <td>1</td>\n    </tr>\n  </tbody>\n</table>\n</div>",
            "text/plain": "       activity_date facility_city  facility_zip grade  \\\n191366     5/10/2016   LOS ANGELES         90005     A   \n191367     8/17/2016       GARDENA         90249     A   \n191368     6/30/2016       ARTESIA         90701     A   \n191369     12/6/2016     SAN PEDRO         90731     A   \n191370     3/20/2017   LOS ANGELES         90007     A   \n\n                            pe_description  program_element_pe  score  \\\n191366    RESTAURANT (0-30) SEATS LOW RISK                1630     98   \n191367   RESTAURANT (0-30) SEATS HIGH RISK                1632     92   \n191368  RESTAURANT (31-60) SEATS HIGH RISK                1635     90   \n191369  RESTAURANT (31-60) SEATS HIGH RISK                1635     92   \n191370   RESTAURANT (0-30) SEATS HIGH RISK                1632     95   \n\n       serial_number       Date  Year  Quarter  highrisk  \n191366     DAQW0V2BJ 2016-05-10  2016        2         0  \n191367     DAV0HVX0C 2016-08-17  2016        3         1  \n191368     DATL8XDYB 2016-06-30  2016        2         1  \n191369     DA3FOEGAF 2016-12-06  2016        4         1  \n191370     DAOU061N2 2017-03-20  2017        1         1  "
          },
          "metadata": {}
        }
      ]
    },
    {
      "metadata": {
        "trusted": true
      },
      "cell_type": "code",
      "source": "import numpy as np\ndf1['InLA'] = df1['facility_city'].isin(['LOS ANGELES']).astype(int)\ndf1.tail()",
      "execution_count": 13,
      "outputs": [
        {
          "output_type": "execute_result",
          "execution_count": 13,
          "data": {
            "text/html": "<div>\n<style scoped>\n    .dataframe tbody tr th:only-of-type {\n        vertical-align: middle;\n    }\n\n    .dataframe tbody tr th {\n        vertical-align: top;\n    }\n\n    .dataframe thead th {\n        text-align: right;\n    }\n</style>\n<table border=\"1\" class=\"dataframe\">\n  <thead>\n    <tr style=\"text-align: right;\">\n      <th></th>\n      <th>activity_date</th>\n      <th>facility_city</th>\n      <th>facility_zip</th>\n      <th>grade</th>\n      <th>pe_description</th>\n      <th>program_element_pe</th>\n      <th>score</th>\n      <th>serial_number</th>\n      <th>Date</th>\n      <th>Year</th>\n      <th>Quarter</th>\n      <th>highrisk</th>\n      <th>InLA</th>\n    </tr>\n  </thead>\n  <tbody>\n    <tr>\n      <th>191366</th>\n      <td>5/10/2016</td>\n      <td>LOS ANGELES</td>\n      <td>90005</td>\n      <td>A</td>\n      <td>RESTAURANT (0-30) SEATS LOW RISK</td>\n      <td>1630</td>\n      <td>98</td>\n      <td>DAQW0V2BJ</td>\n      <td>2016-05-10</td>\n      <td>2016</td>\n      <td>2</td>\n      <td>0</td>\n      <td>1</td>\n    </tr>\n    <tr>\n      <th>191367</th>\n      <td>8/17/2016</td>\n      <td>GARDENA</td>\n      <td>90249</td>\n      <td>A</td>\n      <td>RESTAURANT (0-30) SEATS HIGH RISK</td>\n      <td>1632</td>\n      <td>92</td>\n      <td>DAV0HVX0C</td>\n      <td>2016-08-17</td>\n      <td>2016</td>\n      <td>3</td>\n      <td>1</td>\n      <td>0</td>\n    </tr>\n    <tr>\n      <th>191368</th>\n      <td>6/30/2016</td>\n      <td>ARTESIA</td>\n      <td>90701</td>\n      <td>A</td>\n      <td>RESTAURANT (31-60) SEATS HIGH RISK</td>\n      <td>1635</td>\n      <td>90</td>\n      <td>DATL8XDYB</td>\n      <td>2016-06-30</td>\n      <td>2016</td>\n      <td>2</td>\n      <td>1</td>\n      <td>0</td>\n    </tr>\n    <tr>\n      <th>191369</th>\n      <td>12/6/2016</td>\n      <td>SAN PEDRO</td>\n      <td>90731</td>\n      <td>A</td>\n      <td>RESTAURANT (31-60) SEATS HIGH RISK</td>\n      <td>1635</td>\n      <td>92</td>\n      <td>DA3FOEGAF</td>\n      <td>2016-12-06</td>\n      <td>2016</td>\n      <td>4</td>\n      <td>1</td>\n      <td>0</td>\n    </tr>\n    <tr>\n      <th>191370</th>\n      <td>3/20/2017</td>\n      <td>LOS ANGELES</td>\n      <td>90007</td>\n      <td>A</td>\n      <td>RESTAURANT (0-30) SEATS HIGH RISK</td>\n      <td>1632</td>\n      <td>95</td>\n      <td>DAOU061N2</td>\n      <td>2017-03-20</td>\n      <td>2017</td>\n      <td>1</td>\n      <td>1</td>\n      <td>1</td>\n    </tr>\n  </tbody>\n</table>\n</div>",
            "text/plain": "       activity_date facility_city  facility_zip grade  \\\n191366     5/10/2016   LOS ANGELES         90005     A   \n191367     8/17/2016       GARDENA         90249     A   \n191368     6/30/2016       ARTESIA         90701     A   \n191369     12/6/2016     SAN PEDRO         90731     A   \n191370     3/20/2017   LOS ANGELES         90007     A   \n\n                            pe_description  program_element_pe  score  \\\n191366    RESTAURANT (0-30) SEATS LOW RISK                1630     98   \n191367   RESTAURANT (0-30) SEATS HIGH RISK                1632     92   \n191368  RESTAURANT (31-60) SEATS HIGH RISK                1635     90   \n191369  RESTAURANT (31-60) SEATS HIGH RISK                1635     92   \n191370   RESTAURANT (0-30) SEATS HIGH RISK                1632     95   \n\n       serial_number       Date  Year  Quarter  highrisk  InLA  \n191366     DAQW0V2BJ 2016-05-10  2016        2         0     1  \n191367     DAV0HVX0C 2016-08-17  2016        3         1     0  \n191368     DATL8XDYB 2016-06-30  2016        2         1     0  \n191369     DA3FOEGAF 2016-12-06  2016        4         1     0  \n191370     DAOU061N2 2017-03-20  2017        1         1     1  "
          },
          "metadata": {}
        }
      ]
    },
    {
      "metadata": {
        "trusted": true
      },
      "cell_type": "code",
      "source": "import numpy as np\ndf1['GradeA'] = df1['grade'].isin(['A']).astype(int)\ndf1.head()",
      "execution_count": 14,
      "outputs": [
        {
          "output_type": "execute_result",
          "execution_count": 14,
          "data": {
            "text/html": "<div>\n<style scoped>\n    .dataframe tbody tr th:only-of-type {\n        vertical-align: middle;\n    }\n\n    .dataframe tbody tr th {\n        vertical-align: top;\n    }\n\n    .dataframe thead th {\n        text-align: right;\n    }\n</style>\n<table border=\"1\" class=\"dataframe\">\n  <thead>\n    <tr style=\"text-align: right;\">\n      <th></th>\n      <th>activity_date</th>\n      <th>facility_city</th>\n      <th>facility_zip</th>\n      <th>grade</th>\n      <th>pe_description</th>\n      <th>program_element_pe</th>\n      <th>score</th>\n      <th>serial_number</th>\n      <th>Date</th>\n      <th>Year</th>\n      <th>Quarter</th>\n      <th>highrisk</th>\n      <th>InLA</th>\n      <th>GradeA</th>\n    </tr>\n  </thead>\n  <tbody>\n    <tr>\n      <th>0</th>\n      <td>5/9/2017</td>\n      <td>GRANADA HILLS</td>\n      <td>91344</td>\n      <td>A</td>\n      <td>FOOD MKT RETAIL (25-1,999 SF) HIGH RISK</td>\n      <td>1612</td>\n      <td>98</td>\n      <td>DAHDRUQZO</td>\n      <td>2017-05-09</td>\n      <td>2017</td>\n      <td>2</td>\n      <td>1</td>\n      <td>0</td>\n      <td>1</td>\n    </tr>\n    <tr>\n      <th>1</th>\n      <td>4/10/2017</td>\n      <td>TORRANCE</td>\n      <td>90505</td>\n      <td>A</td>\n      <td>RESTAURANT (61-150) SEATS HIGH RISK</td>\n      <td>1638</td>\n      <td>94</td>\n      <td>DAL3SBUE0</td>\n      <td>2017-04-10</td>\n      <td>2017</td>\n      <td>2</td>\n      <td>1</td>\n      <td>0</td>\n      <td>1</td>\n    </tr>\n    <tr>\n      <th>2</th>\n      <td>4/4/2017</td>\n      <td>GRANADA HILLS</td>\n      <td>91344</td>\n      <td>A</td>\n      <td>FOOD MKT RETAIL (25-1,999 SF) HIGH RISK</td>\n      <td>1612</td>\n      <td>95</td>\n      <td>DAL2PIKJU</td>\n      <td>2017-04-04</td>\n      <td>2017</td>\n      <td>2</td>\n      <td>1</td>\n      <td>0</td>\n      <td>1</td>\n    </tr>\n    <tr>\n      <th>3</th>\n      <td>8/15/2017</td>\n      <td>LANCASTER</td>\n      <td>93536</td>\n      <td>A</td>\n      <td>RESTAURANT (0-30) SEATS HIGH RISK</td>\n      <td>1632</td>\n      <td>98</td>\n      <td>DA0ZMAJXZ</td>\n      <td>2017-08-15</td>\n      <td>2017</td>\n      <td>3</td>\n      <td>1</td>\n      <td>0</td>\n      <td>1</td>\n    </tr>\n    <tr>\n      <th>4</th>\n      <td>9/26/2016</td>\n      <td>ARTESIA</td>\n      <td>90701</td>\n      <td>A</td>\n      <td>RESTAURANT (61-150) SEATS HIGH RISK</td>\n      <td>1638</td>\n      <td>96</td>\n      <td>DA41DBXA2</td>\n      <td>2016-09-26</td>\n      <td>2016</td>\n      <td>3</td>\n      <td>1</td>\n      <td>0</td>\n      <td>1</td>\n    </tr>\n  </tbody>\n</table>\n</div>",
            "text/plain": "  activity_date  facility_city  facility_zip grade  \\\n0      5/9/2017  GRANADA HILLS         91344     A   \n1     4/10/2017       TORRANCE         90505     A   \n2      4/4/2017  GRANADA HILLS         91344     A   \n3     8/15/2017      LANCASTER         93536     A   \n4     9/26/2016        ARTESIA         90701     A   \n\n                            pe_description  program_element_pe  score  \\\n0  FOOD MKT RETAIL (25-1,999 SF) HIGH RISK                1612     98   \n1      RESTAURANT (61-150) SEATS HIGH RISK                1638     94   \n2  FOOD MKT RETAIL (25-1,999 SF) HIGH RISK                1612     95   \n3        RESTAURANT (0-30) SEATS HIGH RISK                1632     98   \n4      RESTAURANT (61-150) SEATS HIGH RISK                1638     96   \n\n  serial_number       Date  Year  Quarter  highrisk  InLA  GradeA  \n0     DAHDRUQZO 2017-05-09  2017        2         1     0       1  \n1     DAL3SBUE0 2017-04-10  2017        2         1     0       1  \n2     DAL2PIKJU 2017-04-04  2017        2         1     0       1  \n3     DA0ZMAJXZ 2017-08-15  2017        3         1     0       1  \n4     DA41DBXA2 2016-09-26  2016        3         1     0       1  "
          },
          "metadata": {}
        }
      ]
    },
    {
      "metadata": {
        "trusted": true
      },
      "cell_type": "code",
      "source": "pd.value_counts(df1['Year'])\n#only 6 months in 2015 are recorded",
      "execution_count": 15,
      "outputs": [
        {
          "output_type": "execute_result",
          "execution_count": 15,
          "data": {
            "text/plain": "2016    79991\n2017    76008\n2015    35372\nName: Year, dtype: int64"
          },
          "metadata": {}
        }
      ]
    },
    {
      "metadata": {
        "trusted": true
      },
      "cell_type": "code",
      "source": "pd.value_counts(df1['Quarter'])",
      "execution_count": 16,
      "outputs": [
        {
          "output_type": "execute_result",
          "execution_count": 16,
          "data": {
            "text/plain": "3    55063\n4    55049\n2    41125\n1    40134\nName: Quarter, dtype: int64"
          },
          "metadata": {}
        }
      ]
    },
    {
      "metadata": {
        "trusted": true
      },
      "cell_type": "code",
      "source": "pd.value_counts(df1['highrisk'])\n#Most of the facilities are high risk (117806/191371), i.e. 62%",
      "execution_count": 17,
      "outputs": [
        {
          "output_type": "execute_result",
          "execution_count": 17,
          "data": {
            "text/plain": "1    117806\n0     73565\nName: highrisk, dtype: int64"
          },
          "metadata": {}
        }
      ]
    },
    {
      "metadata": {
        "trusted": true
      },
      "cell_type": "code",
      "source": "pd.value_counts(df1['InLA'])",
      "execution_count": 18,
      "outputs": [
        {
          "output_type": "execute_result",
          "execution_count": 18,
          "data": {
            "text/plain": "0    137702\n1     53669\nName: InLA, dtype: int64"
          },
          "metadata": {}
        }
      ]
    },
    {
      "metadata": {
        "trusted": true
      },
      "cell_type": "code",
      "source": "pd.value_counts(df1['GradeA'])",
      "execution_count": 19,
      "outputs": [
        {
          "output_type": "execute_result",
          "execution_count": 19,
          "data": {
            "text/plain": "1    181278\n0     10093\nName: GradeA, dtype: int64"
          },
          "metadata": {}
        }
      ]
    },
    {
      "metadata": {
        "trusted": true
      },
      "cell_type": "code",
      "source": "df1.corr()\n#Most correlations are weak. High risk facilities have a -0.26 correlation.",
      "execution_count": 20,
      "outputs": [
        {
          "output_type": "execute_result",
          "execution_count": 20,
          "data": {
            "text/html": "<div>\n<style scoped>\n    .dataframe tbody tr th:only-of-type {\n        vertical-align: middle;\n    }\n\n    .dataframe tbody tr th {\n        vertical-align: top;\n    }\n\n    .dataframe thead th {\n        text-align: right;\n    }\n</style>\n<table border=\"1\" class=\"dataframe\">\n  <thead>\n    <tr style=\"text-align: right;\">\n      <th></th>\n      <th>facility_zip</th>\n      <th>program_element_pe</th>\n      <th>score</th>\n      <th>Year</th>\n      <th>Quarter</th>\n      <th>highrisk</th>\n      <th>InLA</th>\n      <th>GradeA</th>\n    </tr>\n  </thead>\n  <tbody>\n    <tr>\n      <th>facility_zip</th>\n      <td>1.000000</td>\n      <td>0.015668</td>\n      <td>0.074483</td>\n      <td>-0.008970</td>\n      <td>0.022589</td>\n      <td>-0.013975</td>\n      <td>-0.615164</td>\n      <td>0.027193</td>\n    </tr>\n    <tr>\n      <th>program_element_pe</th>\n      <td>0.015668</td>\n      <td>1.000000</td>\n      <td>-0.207622</td>\n      <td>0.006025</td>\n      <td>0.005748</td>\n      <td>0.412216</td>\n      <td>-0.024327</td>\n      <td>-0.058476</td>\n    </tr>\n    <tr>\n      <th>score</th>\n      <td>0.074483</td>\n      <td>-0.207622</td>\n      <td>1.000000</td>\n      <td>0.010816</td>\n      <td>-0.020778</td>\n      <td>-0.259540</td>\n      <td>-0.080079</td>\n      <td>0.652823</td>\n    </tr>\n    <tr>\n      <th>Year</th>\n      <td>-0.008970</td>\n      <td>0.006025</td>\n      <td>0.010816</td>\n      <td>1.000000</td>\n      <td>-0.284913</td>\n      <td>0.003004</td>\n      <td>0.002649</td>\n      <td>-0.000346</td>\n    </tr>\n    <tr>\n      <th>Quarter</th>\n      <td>0.022589</td>\n      <td>0.005748</td>\n      <td>-0.020778</td>\n      <td>-0.284913</td>\n      <td>1.000000</td>\n      <td>-0.002278</td>\n      <td>-0.019128</td>\n      <td>-0.008907</td>\n    </tr>\n    <tr>\n      <th>highrisk</th>\n      <td>-0.013975</td>\n      <td>0.412216</td>\n      <td>-0.259540</td>\n      <td>0.003004</td>\n      <td>-0.002278</td>\n      <td>1.000000</td>\n      <td>0.007817</td>\n      <td>-0.091017</td>\n    </tr>\n    <tr>\n      <th>InLA</th>\n      <td>-0.615164</td>\n      <td>-0.024327</td>\n      <td>-0.080079</td>\n      <td>0.002649</td>\n      <td>-0.019128</td>\n      <td>0.007817</td>\n      <td>1.000000</td>\n      <td>-0.044469</td>\n    </tr>\n    <tr>\n      <th>GradeA</th>\n      <td>0.027193</td>\n      <td>-0.058476</td>\n      <td>0.652823</td>\n      <td>-0.000346</td>\n      <td>-0.008907</td>\n      <td>-0.091017</td>\n      <td>-0.044469</td>\n      <td>1.000000</td>\n    </tr>\n  </tbody>\n</table>\n</div>",
            "text/plain": "                    facility_zip  program_element_pe     score      Year  \\\nfacility_zip            1.000000            0.015668  0.074483 -0.008970   \nprogram_element_pe      0.015668            1.000000 -0.207622  0.006025   \nscore                   0.074483           -0.207622  1.000000  0.010816   \nYear                   -0.008970            0.006025  0.010816  1.000000   \nQuarter                 0.022589            0.005748 -0.020778 -0.284913   \nhighrisk               -0.013975            0.412216 -0.259540  0.003004   \nInLA                   -0.615164           -0.024327 -0.080079  0.002649   \nGradeA                  0.027193           -0.058476  0.652823 -0.000346   \n\n                     Quarter  highrisk      InLA    GradeA  \nfacility_zip        0.022589 -0.013975 -0.615164  0.027193  \nprogram_element_pe  0.005748  0.412216 -0.024327 -0.058476  \nscore              -0.020778 -0.259540 -0.080079  0.652823  \nYear               -0.284913  0.003004  0.002649 -0.000346  \nQuarter             1.000000 -0.002278 -0.019128 -0.008907  \nhighrisk           -0.002278  1.000000  0.007817 -0.091017  \nInLA               -0.019128  0.007817  1.000000 -0.044469  \nGradeA             -0.008907 -0.091017 -0.044469  1.000000  "
          },
          "metadata": {}
        }
      ]
    },
    {
      "metadata": {
        "trusted": true
      },
      "cell_type": "code",
      "source": "import statsmodels.formula.api as sm\nresult = sm.ols(formula = 'score~Quarter + highrisk + InLA', data=df1).fit()\nresult.summary()",
      "execution_count": 21,
      "outputs": [
        {
          "output_type": "execute_result",
          "execution_count": 21,
          "data": {
            "text/html": "<table class=\"simpletable\">\n<caption>OLS Regression Results</caption>\n<tr>\n  <th>Dep. Variable:</th>          <td>score</td>      <th>  R-squared:         </th>  <td>   0.074</td>  \n</tr>\n<tr>\n  <th>Model:</th>                   <td>OLS</td>       <th>  Adj. R-squared:    </th>  <td>   0.074</td>  \n</tr>\n<tr>\n  <th>Method:</th>             <td>Least Squares</td>  <th>  F-statistic:       </th>  <td>   5096.</td>  \n</tr>\n<tr>\n  <th>Date:</th>             <td>Fri, 26 Oct 2018</td> <th>  Prob (F-statistic):</th>   <td>  0.00</td>   \n</tr>\n<tr>\n  <th>Time:</th>                 <td>17:40:51</td>     <th>  Log-Likelihood:    </th> <td>-5.2195e+05</td>\n</tr>\n<tr>\n  <th>No. Observations:</th>      <td>191371</td>      <th>  AIC:               </th>  <td>1.044e+06</td> \n</tr>\n<tr>\n  <th>Df Residuals:</th>          <td>191367</td>      <th>  BIC:               </th>  <td>1.044e+06</td> \n</tr>\n<tr>\n  <th>Df Model:</th>              <td>     3</td>      <th>                     </th>      <td> </td>     \n</tr>\n<tr>\n  <th>Covariance Type:</th>      <td>nonrobust</td>    <th>                     </th>      <td> </td>     \n</tr>\n</table>\n<table class=\"simpletable\">\n<tr>\n      <td></td>         <th>coef</th>     <th>std err</th>      <th>t</th>      <th>P>|t|</th>  <th>[0.025</th>    <th>0.975]</th>  \n</tr>\n<tr>\n  <th>Intercept</th> <td>   95.4132</td> <td>    0.025</td> <td> 3798.704</td> <td> 0.000</td> <td>   95.364</td> <td>   95.462</td>\n</tr>\n<tr>\n  <th>Quarter</th>   <td>   -0.0796</td> <td>    0.008</td> <td>  -10.394</td> <td> 0.000</td> <td>   -0.095</td> <td>   -0.065</td>\n</tr>\n<tr>\n  <th>highrisk</th>  <td>   -2.0473</td> <td>    0.017</td> <td> -117.726</td> <td> 0.000</td> <td>   -2.081</td> <td>   -2.013</td>\n</tr>\n<tr>\n  <th>InLA</th>      <td>   -0.6719</td> <td>    0.019</td> <td>  -35.674</td> <td> 0.000</td> <td>   -0.709</td> <td>   -0.635</td>\n</tr>\n</table>\n<table class=\"simpletable\">\n<tr>\n  <th>Omnibus:</th>       <td>52086.996</td> <th>  Durbin-Watson:     </th>  <td>   1.998</td> \n</tr>\n<tr>\n  <th>Prob(Omnibus):</th>  <td> 0.000</td>   <th>  Jarque-Bera (JB):  </th> <td>192376.205</td>\n</tr>\n<tr>\n  <th>Skew:</th>           <td>-1.335</td>   <th>  Prob(JB):          </th>  <td>    0.00</td> \n</tr>\n<tr>\n  <th>Kurtosis:</th>       <td> 7.123</td>   <th>  Cond. No.          </th>  <td>    10.1</td> \n</tr>\n</table>",
            "text/plain": "<class 'statsmodels.iolib.summary.Summary'>\n\"\"\"\n                            OLS Regression Results                            \n==============================================================================\nDep. Variable:                  score   R-squared:                       0.074\nModel:                            OLS   Adj. R-squared:                  0.074\nMethod:                 Least Squares   F-statistic:                     5096.\nDate:                Fri, 26 Oct 2018   Prob (F-statistic):               0.00\nTime:                        17:40:51   Log-Likelihood:            -5.2195e+05\nNo. Observations:              191371   AIC:                         1.044e+06\nDf Residuals:                  191367   BIC:                         1.044e+06\nDf Model:                           3                                         \nCovariance Type:            nonrobust                                         \n==============================================================================\n                 coef    std err          t      P>|t|      [0.025      0.975]\n------------------------------------------------------------------------------\nIntercept     95.4132      0.025   3798.704      0.000      95.364      95.462\nQuarter       -0.0796      0.008    -10.394      0.000      -0.095      -0.065\nhighrisk      -2.0473      0.017   -117.726      0.000      -2.081      -2.013\nInLA          -0.6719      0.019    -35.674      0.000      -0.709      -0.635\n==============================================================================\nOmnibus:                    52086.996   Durbin-Watson:                   1.998\nProb(Omnibus):                  0.000   Jarque-Bera (JB):           192376.205\nSkew:                          -1.335   Prob(JB):                         0.00\nKurtosis:                       7.123   Cond. No.                         10.1\n==============================================================================\n\nWarnings:\n[1] Standard Errors assume that the covariance matrix of the errors is correctly specified.\n\"\"\""
          },
          "metadata": {}
        }
      ]
    },
    {
      "metadata": {
        "trusted": true
      },
      "cell_type": "code",
      "source": "import statsmodels.formula.api as sm\nresult = sm.ols(formula = 'score~Quarter + highrisk + InLA -1', data=df1).fit()\nresult.summary()\n# Stronger adj. R-squared after removing intercept\n#All P values are significant\n#Score increases as Quarter of year increases\n#The higher the facility risk, the higher the score\n#Living in Los Angeles leads to a higher score than living outside it.",
      "execution_count": 22,
      "outputs": [
        {
          "output_type": "execute_result",
          "execution_count": 22,
          "data": {
            "text/html": "<table class=\"simpletable\">\n<caption>OLS Regression Results</caption>\n<tr>\n  <th>Dep. Variable:</th>          <td>score</td>      <th>  R-squared:         </th>  <td>   0.881</td>  \n</tr>\n<tr>\n  <th>Model:</th>                   <td>OLS</td>       <th>  Adj. R-squared:    </th>  <td>   0.881</td>  \n</tr>\n<tr>\n  <th>Method:</th>             <td>Least Squares</td>  <th>  F-statistic:       </th>  <td>4.730e+05</td> \n</tr>\n<tr>\n  <th>Date:</th>             <td>Fri, 26 Oct 2018</td> <th>  Prob (F-statistic):</th>   <td>  0.00</td>   \n</tr>\n<tr>\n  <th>Time:</th>                 <td>17:41:31</td>     <th>  Log-Likelihood:    </th> <td>-9.3685e+05</td>\n</tr>\n<tr>\n  <th>No. Observations:</th>      <td>191371</td>      <th>  AIC:               </th>  <td>1.874e+06</td> \n</tr>\n<tr>\n  <th>Df Residuals:</th>          <td>191368</td>      <th>  BIC:               </th>  <td>1.874e+06</td> \n</tr>\n<tr>\n  <th>Df Model:</th>              <td>     3</td>      <th>                     </th>      <td> </td>     \n</tr>\n<tr>\n  <th>Covariance Type:</th>      <td>nonrobust</td>    <th>                     </th>      <td> </td>     \n</tr>\n</table>\n<table class=\"simpletable\">\n<tr>\n      <td></td>        <th>coef</th>     <th>std err</th>      <th>t</th>      <th>P>|t|</th>  <th>[0.025</th>    <th>0.975]</th>  \n</tr>\n<tr>\n  <th>Quarter</th>  <td>   23.5857</td> <td>    0.039</td> <td>  606.303</td> <td> 0.000</td> <td>   23.509</td> <td>   23.662</td>\n</tr>\n<tr>\n  <th>highrisk</th> <td>   26.1136</td> <td>    0.138</td> <td>  189.913</td> <td> 0.000</td> <td>   25.844</td> <td>   26.383</td>\n</tr>\n<tr>\n  <th>InLA</th>     <td>   15.2437</td> <td>    0.161</td> <td>   94.969</td> <td> 0.000</td> <td>   14.929</td> <td>   15.558</td>\n</tr>\n</table>\n<table class=\"simpletable\">\n<tr>\n  <th>Omnibus:</th>       <td>13118.913</td> <th>  Durbin-Watson:     </th> <td>   1.779</td>\n</tr>\n<tr>\n  <th>Prob(Omnibus):</th>  <td> 0.000</td>   <th>  Jarque-Bera (JB):  </th> <td>5175.467</td>\n</tr>\n<tr>\n  <th>Skew:</th>           <td> 0.157</td>   <th>  Prob(JB):          </th> <td>    0.00</td>\n</tr>\n<tr>\n  <th>Kurtosis:</th>       <td> 2.258</td>   <th>  Cond. No.          </th> <td>    6.50</td>\n</tr>\n</table>",
            "text/plain": "<class 'statsmodels.iolib.summary.Summary'>\n\"\"\"\n                            OLS Regression Results                            \n==============================================================================\nDep. Variable:                  score   R-squared:                       0.881\nModel:                            OLS   Adj. R-squared:                  0.881\nMethod:                 Least Squares   F-statistic:                 4.730e+05\nDate:                Fri, 26 Oct 2018   Prob (F-statistic):               0.00\nTime:                        17:41:31   Log-Likelihood:            -9.3685e+05\nNo. Observations:              191371   AIC:                         1.874e+06\nDf Residuals:                  191368   BIC:                         1.874e+06\nDf Model:                           3                                         \nCovariance Type:            nonrobust                                         \n==============================================================================\n                 coef    std err          t      P>|t|      [0.025      0.975]\n------------------------------------------------------------------------------\nQuarter       23.5857      0.039    606.303      0.000      23.509      23.662\nhighrisk      26.1136      0.138    189.913      0.000      25.844      26.383\nInLA          15.2437      0.161     94.969      0.000      14.929      15.558\n==============================================================================\nOmnibus:                    13118.913   Durbin-Watson:                   1.779\nProb(Omnibus):                  0.000   Jarque-Bera (JB):             5175.467\nSkew:                           0.157   Prob(JB):                         0.00\nKurtosis:                       2.258   Cond. No.                         6.50\n==============================================================================\n\nWarnings:\n[1] Standard Errors assume that the covariance matrix of the errors is correctly specified.\n\"\"\""
          },
          "metadata": {}
        }
      ]
    },
    {
      "metadata": {
        "trusted": true
      },
      "cell_type": "code",
      "source": "pd.crosstab(df1.GradeA, df1.highrisk, margins = True)\n#Most of the the high risk facilities got Grade A (109699/117806), i.e. 93%",
      "execution_count": 23,
      "outputs": [
        {
          "output_type": "execute_result",
          "execution_count": 23,
          "data": {
            "text/html": "<div>\n<style scoped>\n    .dataframe tbody tr th:only-of-type {\n        vertical-align: middle;\n    }\n\n    .dataframe tbody tr th {\n        vertical-align: top;\n    }\n\n    .dataframe thead th {\n        text-align: right;\n    }\n</style>\n<table border=\"1\" class=\"dataframe\">\n  <thead>\n    <tr style=\"text-align: right;\">\n      <th>highrisk</th>\n      <th>0</th>\n      <th>1</th>\n      <th>All</th>\n    </tr>\n    <tr>\n      <th>GradeA</th>\n      <th></th>\n      <th></th>\n      <th></th>\n    </tr>\n  </thead>\n  <tbody>\n    <tr>\n      <th>0</th>\n      <td>1986</td>\n      <td>8107</td>\n      <td>10093</td>\n    </tr>\n    <tr>\n      <th>1</th>\n      <td>71579</td>\n      <td>109699</td>\n      <td>181278</td>\n    </tr>\n    <tr>\n      <th>All</th>\n      <td>73565</td>\n      <td>117806</td>\n      <td>191371</td>\n    </tr>\n  </tbody>\n</table>\n</div>",
            "text/plain": "highrisk      0       1     All\nGradeA                         \n0          1986    8107   10093\n1         71579  109699  181278\nAll       73565  117806  191371"
          },
          "metadata": {}
        }
      ]
    },
    {
      "metadata": {
        "trusted": true
      },
      "cell_type": "code",
      "source": "pd.crosstab(df1.GradeA, df1.InLA, margins = True)\n#Most of the facilities in L.A got Grade A (49984/53669), i.e. 93%",
      "execution_count": 24,
      "outputs": [
        {
          "output_type": "execute_result",
          "execution_count": 24,
          "data": {
            "text/html": "<div>\n<style scoped>\n    .dataframe tbody tr th:only-of-type {\n        vertical-align: middle;\n    }\n\n    .dataframe tbody tr th {\n        vertical-align: top;\n    }\n\n    .dataframe thead th {\n        text-align: right;\n    }\n</style>\n<table border=\"1\" class=\"dataframe\">\n  <thead>\n    <tr style=\"text-align: right;\">\n      <th>InLA</th>\n      <th>0</th>\n      <th>1</th>\n      <th>All</th>\n    </tr>\n    <tr>\n      <th>GradeA</th>\n      <th></th>\n      <th></th>\n      <th></th>\n    </tr>\n  </thead>\n  <tbody>\n    <tr>\n      <th>0</th>\n      <td>6408</td>\n      <td>3685</td>\n      <td>10093</td>\n    </tr>\n    <tr>\n      <th>1</th>\n      <td>131294</td>\n      <td>49984</td>\n      <td>181278</td>\n    </tr>\n    <tr>\n      <th>All</th>\n      <td>137702</td>\n      <td>53669</td>\n      <td>191371</td>\n    </tr>\n  </tbody>\n</table>\n</div>",
            "text/plain": "InLA         0      1     All\nGradeA                       \n0         6408   3685   10093\n1       131294  49984  181278\nAll     137702  53669  191371"
          },
          "metadata": {}
        }
      ]
    },
    {
      "metadata": {
        "trusted": true
      },
      "cell_type": "code",
      "source": "pd.crosstab(df1.InLA, df1.highrisk, margins = True)\n# only (33365/117806) or 28% of all high risk facilities are found in L.A\n# Out of the inspected facilities in L.A, (33365/53669) or 62% were high risk.",
      "execution_count": 25,
      "outputs": [
        {
          "output_type": "execute_result",
          "execution_count": 25,
          "data": {
            "text/html": "<div>\n<style scoped>\n    .dataframe tbody tr th:only-of-type {\n        vertical-align: middle;\n    }\n\n    .dataframe tbody tr th {\n        vertical-align: top;\n    }\n\n    .dataframe thead th {\n        text-align: right;\n    }\n</style>\n<table border=\"1\" class=\"dataframe\">\n  <thead>\n    <tr style=\"text-align: right;\">\n      <th>highrisk</th>\n      <th>0</th>\n      <th>1</th>\n      <th>All</th>\n    </tr>\n    <tr>\n      <th>InLA</th>\n      <th></th>\n      <th></th>\n      <th></th>\n    </tr>\n  </thead>\n  <tbody>\n    <tr>\n      <th>0</th>\n      <td>53261</td>\n      <td>84441</td>\n      <td>137702</td>\n    </tr>\n    <tr>\n      <th>1</th>\n      <td>20304</td>\n      <td>33365</td>\n      <td>53669</td>\n    </tr>\n    <tr>\n      <th>All</th>\n      <td>73565</td>\n      <td>117806</td>\n      <td>191371</td>\n    </tr>\n  </tbody>\n</table>\n</div>",
            "text/plain": "highrisk      0       1     All\nInLA                           \n0         53261   84441  137702\n1         20304   33365   53669\nAll       73565  117806  191371"
          },
          "metadata": {}
        }
      ]
    },
    {
      "metadata": {
        "trusted": true
      },
      "cell_type": "code",
      "source": "pd.pivot_table(df1, index = \"highrisk\",values = \"score\", aggfunc = np.mean)\n#High Risk facilities got a slightly lower score",
      "execution_count": 26,
      "outputs": [
        {
          "output_type": "execute_result",
          "execution_count": 26,
          "data": {
            "text/html": "<div>\n<style scoped>\n    .dataframe tbody tr th:only-of-type {\n        vertical-align: middle;\n    }\n\n    .dataframe tbody tr th {\n        vertical-align: top;\n    }\n\n    .dataframe thead th {\n        text-align: right;\n    }\n</style>\n<table border=\"1\" class=\"dataframe\">\n  <thead>\n    <tr style=\"text-align: right;\">\n      <th></th>\n      <th>score</th>\n    </tr>\n    <tr>\n      <th>highrisk</th>\n      <th></th>\n    </tr>\n  </thead>\n  <tbody>\n    <tr>\n      <th>0</th>\n      <td>95.016312</td>\n    </tr>\n    <tr>\n      <th>1</th>\n      <td>92.964611</td>\n    </tr>\n  </tbody>\n</table>\n</div>",
            "text/plain": "              score\nhighrisk           \n0         95.016312\n1         92.964611"
          },
          "metadata": {}
        }
      ]
    },
    {
      "metadata": {
        "trusted": true
      },
      "cell_type": "code",
      "source": "pd.pivot_table(df1, index = [\"Year\",\"Quarter\"],values = \"score\", aggfunc = np.mean)\n#mean score is relatively the same across all quarters, all years",
      "execution_count": 27,
      "outputs": [
        {
          "output_type": "execute_result",
          "execution_count": 27,
          "data": {
            "text/html": "<div>\n<style scoped>\n    .dataframe tbody tr th:only-of-type {\n        vertical-align: middle;\n    }\n\n    .dataframe tbody tr th {\n        vertical-align: top;\n    }\n\n    .dataframe thead th {\n        text-align: right;\n    }\n</style>\n<table border=\"1\" class=\"dataframe\">\n  <thead>\n    <tr style=\"text-align: right;\">\n      <th></th>\n      <th></th>\n      <th>score</th>\n    </tr>\n    <tr>\n      <th>Year</th>\n      <th>Quarter</th>\n      <th></th>\n    </tr>\n  </thead>\n  <tbody>\n    <tr>\n      <th rowspan=\"2\" valign=\"top\">2015</th>\n      <th>3</th>\n      <td>93.466648</td>\n    </tr>\n    <tr>\n      <th>4</th>\n      <td>93.605508</td>\n    </tr>\n    <tr>\n      <th rowspan=\"4\" valign=\"top\">2016</th>\n      <th>1</th>\n      <td>93.953794</td>\n    </tr>\n    <tr>\n      <th>2</th>\n      <td>93.690657</td>\n    </tr>\n    <tr>\n      <th>3</th>\n      <td>93.861185</td>\n    </tr>\n    <tr>\n      <th>4</th>\n      <td>94.008194</td>\n    </tr>\n    <tr>\n      <th rowspan=\"4\" valign=\"top\">2017</th>\n      <th>1</th>\n      <td>94.036948</td>\n    </tr>\n    <tr>\n      <th>2</th>\n      <td>93.750272</td>\n    </tr>\n    <tr>\n      <th>3</th>\n      <td>93.393904</td>\n    </tr>\n    <tr>\n      <th>4</th>\n      <td>93.703621</td>\n    </tr>\n  </tbody>\n</table>\n</div>",
            "text/plain": "                  score\nYear Quarter           \n2015 3        93.466648\n     4        93.605508\n2016 1        93.953794\n     2        93.690657\n     3        93.861185\n     4        94.008194\n2017 1        94.036948\n     2        93.750272\n     3        93.393904\n     4        93.703621"
          },
          "metadata": {}
        }
      ]
    },
    {
      "metadata": {
        "trusted": true
      },
      "cell_type": "code",
      "source": "import pandas as pd\nLocation2 = \"violations.csv\"\ndf2 = pd.read_csv(Location2)\ndf2.sort_values('points', inplace = True, ascending = False)\ndf2.head(20)\n#the highest number of points from an inspection was 11.",
      "execution_count": 3,
      "outputs": [
        {
          "output_type": "execute_result",
          "execution_count": 3,
          "data": {
            "text/html": "<div>\n<style scoped>\n    .dataframe tbody tr th:only-of-type {\n        vertical-align: middle;\n    }\n\n    .dataframe tbody tr th {\n        vertical-align: top;\n    }\n\n    .dataframe thead th {\n        text-align: right;\n    }\n</style>\n<table border=\"1\" class=\"dataframe\">\n  <thead>\n    <tr style=\"text-align: right;\">\n      <th></th>\n      <th>points</th>\n      <th>serial_number</th>\n      <th>violation_code</th>\n      <th>violation_description</th>\n      <th>violation_status</th>\n    </tr>\n  </thead>\n  <tbody>\n    <tr>\n      <th>754833</th>\n      <td>11</td>\n      <td>DAWS3EHNL</td>\n      <td>F023</td>\n      <td># 23. No rodents, insects, birds, or animals</td>\n      <td>OUT OF COMPLIANCE</td>\n    </tr>\n    <tr>\n      <th>492051</th>\n      <td>11</td>\n      <td>DAUM7N7IO</td>\n      <td>F023</td>\n      <td># 23. No rodents, insects, birds, or animals</td>\n      <td>OUT OF COMPLIANCE</td>\n    </tr>\n    <tr>\n      <th>676121</th>\n      <td>11</td>\n      <td>DA88LNBWP</td>\n      <td>F023</td>\n      <td># 23. No rodents, insects, birds, or animals</td>\n      <td>OUT OF COMPLIANCE</td>\n    </tr>\n    <tr>\n      <th>674457</th>\n      <td>11</td>\n      <td>DAWQTXTR3</td>\n      <td>F023</td>\n      <td># 23. No rodents, insects, birds, or animals</td>\n      <td>OUT OF COMPLIANCE</td>\n    </tr>\n    <tr>\n      <th>541707</th>\n      <td>11</td>\n      <td>DABLK2HXL</td>\n      <td>F022</td>\n      <td># 22. Sewage and wastewater properly disposed</td>\n      <td>OUT OF COMPLIANCE</td>\n    </tr>\n    <tr>\n      <th>882945</th>\n      <td>11</td>\n      <td>DAQT0K8VU</td>\n      <td>F023</td>\n      <td># 23. No rodents, insects, birds, or animals</td>\n      <td>OUT OF COMPLIANCE</td>\n    </tr>\n    <tr>\n      <th>548925</th>\n      <td>11</td>\n      <td>DADST3QJ5</td>\n      <td>F023</td>\n      <td># 23. No rodents, insects, birds, or animals</td>\n      <td>OUT OF COMPLIANCE</td>\n    </tr>\n    <tr>\n      <th>582213</th>\n      <td>11</td>\n      <td>DA0Z80QCP</td>\n      <td>F023</td>\n      <td># 23. No rodents, insects, birds, or animals</td>\n      <td>OUT OF COMPLIANCE</td>\n    </tr>\n    <tr>\n      <th>535074</th>\n      <td>11</td>\n      <td>DAQTOQ68E</td>\n      <td>F023</td>\n      <td># 23. No rodents, insects, birds, or animals</td>\n      <td>OUT OF COMPLIANCE</td>\n    </tr>\n    <tr>\n      <th>633102</th>\n      <td>11</td>\n      <td>DA0HE0GN3</td>\n      <td>F023</td>\n      <td># 23. No rodents, insects, birds, or animals</td>\n      <td>OUT OF COMPLIANCE</td>\n    </tr>\n    <tr>\n      <th>514173</th>\n      <td>11</td>\n      <td>DATJ0HR6L</td>\n      <td>F022</td>\n      <td># 22. Sewage and wastewater properly disposed</td>\n      <td>OUT OF COMPLIANCE</td>\n    </tr>\n    <tr>\n      <th>701753</th>\n      <td>11</td>\n      <td>DAELZZXBU</td>\n      <td>F023</td>\n      <td># 23. No rodents, insects, birds, or animals</td>\n      <td>OUT OF COMPLIANCE</td>\n    </tr>\n    <tr>\n      <th>785520</th>\n      <td>11</td>\n      <td>DA3TIWJJY</td>\n      <td>F023</td>\n      <td># 23. No rodents, insects, birds, or animals</td>\n      <td>OUT OF COMPLIANCE</td>\n    </tr>\n    <tr>\n      <th>692827</th>\n      <td>11</td>\n      <td>DAUI0BICG</td>\n      <td>F023</td>\n      <td># 23. No rodents, insects, birds, or animals</td>\n      <td>OUT OF COMPLIANCE</td>\n    </tr>\n    <tr>\n      <th>689854</th>\n      <td>11</td>\n      <td>DAHBA5JU7</td>\n      <td>F023</td>\n      <td># 23. No rodents, insects, birds, or animals</td>\n      <td>OUT OF COMPLIANCE</td>\n    </tr>\n    <tr>\n      <th>734001</th>\n      <td>11</td>\n      <td>DANQCVI3B</td>\n      <td>F023</td>\n      <td># 23. No rodents, insects, birds, or animals</td>\n      <td>OUT OF COMPLIANCE</td>\n    </tr>\n    <tr>\n      <th>788052</th>\n      <td>11</td>\n      <td>DATK1LEKS</td>\n      <td>F023</td>\n      <td># 23. No rodents, insects, birds, or animals</td>\n      <td>OUT OF COMPLIANCE</td>\n    </tr>\n    <tr>\n      <th>468148</th>\n      <td>11</td>\n      <td>DAG6Z9JBB</td>\n      <td>F023</td>\n      <td># 23. No rodents, insects, birds, or animals</td>\n      <td>OUT OF COMPLIANCE</td>\n    </tr>\n    <tr>\n      <th>728929</th>\n      <td>11</td>\n      <td>DAGLJNNHL</td>\n      <td>F023</td>\n      <td># 23. No rodents, insects, birds, or animals</td>\n      <td>OUT OF COMPLIANCE</td>\n    </tr>\n    <tr>\n      <th>658591</th>\n      <td>11</td>\n      <td>DAIGKIAAC</td>\n      <td>F023</td>\n      <td># 23. No rodents, insects, birds, or animals</td>\n      <td>OUT OF COMPLIANCE</td>\n    </tr>\n  </tbody>\n</table>\n</div>",
            "text/plain": "        points serial_number violation_code  \\\n754833      11     DAWS3EHNL           F023   \n492051      11     DAUM7N7IO           F023   \n676121      11     DA88LNBWP           F023   \n674457      11     DAWQTXTR3           F023   \n541707      11     DABLK2HXL           F022   \n882945      11     DAQT0K8VU           F023   \n548925      11     DADST3QJ5           F023   \n582213      11     DA0Z80QCP           F023   \n535074      11     DAQTOQ68E           F023   \n633102      11     DA0HE0GN3           F023   \n514173      11     DATJ0HR6L           F022   \n701753      11     DAELZZXBU           F023   \n785520      11     DA3TIWJJY           F023   \n692827      11     DAUI0BICG           F023   \n689854      11     DAHBA5JU7           F023   \n734001      11     DANQCVI3B           F023   \n788052      11     DATK1LEKS           F023   \n468148      11     DAG6Z9JBB           F023   \n728929      11     DAGLJNNHL           F023   \n658591      11     DAIGKIAAC           F023   \n\n                                violation_description   violation_status  \n754833   # 23. No rodents, insects, birds, or animals  OUT OF COMPLIANCE  \n492051   # 23. No rodents, insects, birds, or animals  OUT OF COMPLIANCE  \n676121   # 23. No rodents, insects, birds, or animals  OUT OF COMPLIANCE  \n674457   # 23. No rodents, insects, birds, or animals  OUT OF COMPLIANCE  \n541707  # 22. Sewage and wastewater properly disposed  OUT OF COMPLIANCE  \n882945   # 23. No rodents, insects, birds, or animals  OUT OF COMPLIANCE  \n548925   # 23. No rodents, insects, birds, or animals  OUT OF COMPLIANCE  \n582213   # 23. No rodents, insects, birds, or animals  OUT OF COMPLIANCE  \n535074   # 23. No rodents, insects, birds, or animals  OUT OF COMPLIANCE  \n633102   # 23. No rodents, insects, birds, or animals  OUT OF COMPLIANCE  \n514173  # 22. Sewage and wastewater properly disposed  OUT OF COMPLIANCE  \n701753   # 23. No rodents, insects, birds, or animals  OUT OF COMPLIANCE  \n785520   # 23. No rodents, insects, birds, or animals  OUT OF COMPLIANCE  \n692827   # 23. No rodents, insects, birds, or animals  OUT OF COMPLIANCE  \n689854   # 23. No rodents, insects, birds, or animals  OUT OF COMPLIANCE  \n734001   # 23. No rodents, insects, birds, or animals  OUT OF COMPLIANCE  \n788052   # 23. No rodents, insects, birds, or animals  OUT OF COMPLIANCE  \n468148   # 23. No rodents, insects, birds, or animals  OUT OF COMPLIANCE  \n728929   # 23. No rodents, insects, birds, or animals  OUT OF COMPLIANCE  \n658591   # 23. No rodents, insects, birds, or animals  OUT OF COMPLIANCE  "
          },
          "metadata": {}
        }
      ]
    },
    {
      "metadata": {
        "trusted": true
      },
      "cell_type": "code",
      "source": "pd.value_counts(df2['points'])\n#Most violations led to 1 point deduction.\n# Only (1109/906014) violations resulted into 11 points",
      "execution_count": 4,
      "outputs": [
        {
          "output_type": "execute_result",
          "execution_count": 4,
          "data": {
            "text/plain": "1     686405\n2     162519\n4      44684\n0      10083\n3       1214\n11      1109\nName: points, dtype: int64"
          },
          "metadata": {}
        }
      ]
    },
    {
      "metadata": {
        "trusted": true
      },
      "cell_type": "code",
      "source": "#Pull out info. related to Serial Number DA0JOOEF0\nimport pandas as pd\nLocation2 = \"violations.csv\"\ndf2 = pd.read_csv(Location2)\ndf2.set_index('serial_number')",
      "execution_count": 2,
      "outputs": [
        {
          "output_type": "execute_result",
          "execution_count": 2,
          "data": {
            "text/html": "<div>\n<style scoped>\n    .dataframe tbody tr th:only-of-type {\n        vertical-align: middle;\n    }\n\n    .dataframe tbody tr th {\n        vertical-align: top;\n    }\n\n    .dataframe thead th {\n        text-align: right;\n    }\n</style>\n<table border=\"1\" class=\"dataframe\">\n  <thead>\n    <tr style=\"text-align: right;\">\n      <th></th>\n      <th>points</th>\n      <th>violation_code</th>\n      <th>violation_description</th>\n      <th>violation_status</th>\n    </tr>\n    <tr>\n      <th>serial_number</th>\n      <th></th>\n      <th></th>\n      <th></th>\n      <th></th>\n    </tr>\n  </thead>\n  <tbody>\n    <tr>\n      <th>DAJ5UNMSF</th>\n      <td>1</td>\n      <td>F044</td>\n      <td># 44. Floors, walls and ceilings: properly bui...</td>\n      <td>OUT OF COMPLIANCE</td>\n    </tr>\n    <tr>\n      <th>DAT2HKIRE</th>\n      <td>4</td>\n      <td>F007</td>\n      <td># 07. Proper hot and cold holding temperatures</td>\n      <td>OUT OF COMPLIANCE</td>\n    </tr>\n    <tr>\n      <th>DAT2HKIRE</th>\n      <td>1</td>\n      <td>F033</td>\n      <td># 33. Nonfood-contact surfaces clean and in go...</td>\n      <td>OUT OF COMPLIANCE</td>\n    </tr>\n    <tr>\n      <th>DAT2HKIRE</th>\n      <td>1</td>\n      <td>F035</td>\n      <td># 35. Equipment/Utensils - approved; installed...</td>\n      <td>OUT OF COMPLIANCE</td>\n    </tr>\n    <tr>\n      <th>DAQN0I8EA</th>\n      <td>1</td>\n      <td>F033</td>\n      <td># 33. Nonfood-contact surfaces clean and in go...</td>\n      <td>OUT OF COMPLIANCE</td>\n    </tr>\n    <tr>\n      <th>DAQN0I8EA</th>\n      <td>2</td>\n      <td>F007</td>\n      <td># 07. Proper hot and cold holding temperatures</td>\n      <td>OUT OF COMPLIANCE</td>\n    </tr>\n    <tr>\n      <th>DAQN0I8EA</th>\n      <td>1</td>\n      <td>F035</td>\n      <td># 35. Equipment/Utensils - approved; installed...</td>\n      <td>OUT OF COMPLIANCE</td>\n    </tr>\n    <tr>\n      <th>DAQN0I8EA</th>\n      <td>2</td>\n      <td>F014</td>\n      <td># 14. Food contact surfaces: clean and sanitized</td>\n      <td>OUT OF COMPLIANCE</td>\n    </tr>\n    <tr>\n      <th>DAQN0I8EA</th>\n      <td>1</td>\n      <td>F036</td>\n      <td># 36. Equipment, utensils and linens: storage ...</td>\n      <td>OUT OF COMPLIANCE</td>\n    </tr>\n    <tr>\n      <th>DAQN0I8EA</th>\n      <td>1</td>\n      <td>F044</td>\n      <td># 44. Floors, walls and ceilings: properly bui...</td>\n      <td>OUT OF COMPLIANCE</td>\n    </tr>\n    <tr>\n      <th>DAQN0I8EA</th>\n      <td>1</td>\n      <td>F034</td>\n      <td># 34. Warewashing facilities: Adequate, mainta...</td>\n      <td>OUT OF COMPLIANCE</td>\n    </tr>\n    <tr>\n      <th>DALVZ4JUV</th>\n      <td>1</td>\n      <td>F035</td>\n      <td># 35. Equipment/Utensils - approved; installed...</td>\n      <td>OUT OF COMPLIANCE</td>\n    </tr>\n    <tr>\n      <th>DALVZ4JUV</th>\n      <td>2</td>\n      <td>F007</td>\n      <td># 07. Proper hot and cold holding temperatures</td>\n      <td>OUT OF COMPLIANCE</td>\n    </tr>\n    <tr>\n      <th>DALVZ4JUV</th>\n      <td>1</td>\n      <td>F040</td>\n      <td># 40. Plumbing: Plumbing in good repair, prope...</td>\n      <td>OUT OF COMPLIANCE</td>\n    </tr>\n    <tr>\n      <th>DALVZ4JUV</th>\n      <td>2</td>\n      <td>F006</td>\n      <td># 06. Adequate handwashing facilities supplied...</td>\n      <td>OUT OF COMPLIANCE</td>\n    </tr>\n    <tr>\n      <th>DAXJXWTVO</th>\n      <td>1</td>\n      <td>F036</td>\n      <td># 36. Equipment, utensils and linens: storage ...</td>\n      <td>OUT OF COMPLIANCE</td>\n    </tr>\n    <tr>\n      <th>DAXJXWTVO</th>\n      <td>1</td>\n      <td>F033</td>\n      <td># 33. Nonfood-contact surfaces clean and in go...</td>\n      <td>OUT OF COMPLIANCE</td>\n    </tr>\n    <tr>\n      <th>DAXJXWTVO</th>\n      <td>1</td>\n      <td>F044</td>\n      <td># 44. Floors, walls and ceilings: properly bui...</td>\n      <td>OUT OF COMPLIANCE</td>\n    </tr>\n    <tr>\n      <th>DAXJXWTVO</th>\n      <td>1</td>\n      <td>F035</td>\n      <td># 35. Equipment/Utensils - approved; installed...</td>\n      <td>OUT OF COMPLIANCE</td>\n    </tr>\n    <tr>\n      <th>DAXJXWTVO</th>\n      <td>1</td>\n      <td>F038</td>\n      <td># 38. Thermometers provided and accurate</td>\n      <td>OUT OF COMPLIANCE</td>\n    </tr>\n    <tr>\n      <th>DAXJXWTVO</th>\n      <td>4</td>\n      <td>F007</td>\n      <td># 07. Proper hot and cold holding temperatures</td>\n      <td>OUT OF COMPLIANCE</td>\n    </tr>\n    <tr>\n      <th>DA7KZFE4Q</th>\n      <td>1</td>\n      <td>F043</td>\n      <td># 43. Premises; personal/cleaning items; vermi...</td>\n      <td>OUT OF COMPLIANCE</td>\n    </tr>\n    <tr>\n      <th>DA7KZFE4Q</th>\n      <td>1</td>\n      <td>F039</td>\n      <td># 39. Wiping cloths: properly used and stored</td>\n      <td>OUT OF COMPLIANCE</td>\n    </tr>\n    <tr>\n      <th>DA7KZFE4Q</th>\n      <td>1</td>\n      <td>F044</td>\n      <td># 44. Floors, walls and ceilings: properly bui...</td>\n      <td>OUT OF COMPLIANCE</td>\n    </tr>\n    <tr>\n      <th>DA7KZFE4Q</th>\n      <td>1</td>\n      <td>F033</td>\n      <td># 33. Nonfood-contact surfaces clean and in go...</td>\n      <td>OUT OF COMPLIANCE</td>\n    </tr>\n    <tr>\n      <th>DASN4EKRV</th>\n      <td>1</td>\n      <td>F044</td>\n      <td># 44. Floors, walls and ceilings: properly bui...</td>\n      <td>OUT OF COMPLIANCE</td>\n    </tr>\n    <tr>\n      <th>DASN4EKRV</th>\n      <td>1</td>\n      <td>F036</td>\n      <td># 36. Equipment, utensils and linens: storage ...</td>\n      <td>OUT OF COMPLIANCE</td>\n    </tr>\n    <tr>\n      <th>DASN4EKRV</th>\n      <td>1</td>\n      <td>F048</td>\n      <td># 47. Permits Available</td>\n      <td>OUT OF COMPLIANCE</td>\n    </tr>\n    <tr>\n      <th>DASN4EKRV</th>\n      <td>1</td>\n      <td>F046</td>\n      <td># 46. Signs posted; last inspection report ava...</td>\n      <td>OUT OF COMPLIANCE</td>\n    </tr>\n    <tr>\n      <th>DASN4EKRV</th>\n      <td>1</td>\n      <td>F037</td>\n      <td># 37. Adequate ventilation and lighting; desig...</td>\n      <td>OUT OF COMPLIANCE</td>\n    </tr>\n    <tr>\n      <th>...</th>\n      <td>...</td>\n      <td>...</td>\n      <td>...</td>\n      <td>...</td>\n    </tr>\n    <tr>\n      <th>DARMMDOQJ</th>\n      <td>4</td>\n      <td>F007</td>\n      <td># 07. Proper hot and cold holding temperatures</td>\n      <td>OUT OF COMPLIANCE</td>\n    </tr>\n    <tr>\n      <th>DAGPT1SCB</th>\n      <td>1</td>\n      <td>F035</td>\n      <td># 35. Equipment/Utensils - approved; installed...</td>\n      <td>OUT OF COMPLIANCE</td>\n    </tr>\n    <tr>\n      <th>DAVOL5QAQ</th>\n      <td>1</td>\n      <td>F041</td>\n      <td># 41. Garbage and refuse properly disposed; fa...</td>\n      <td>OUT OF COMPLIANCE</td>\n    </tr>\n    <tr>\n      <th>DA60WCKK0</th>\n      <td>1</td>\n      <td>F034</td>\n      <td># 34. Warewashing facilities: Adequate, mainta...</td>\n      <td>OUT OF COMPLIANCE</td>\n    </tr>\n    <tr>\n      <th>DA3WIW498</th>\n      <td>1</td>\n      <td>F030</td>\n      <td># 30. Food properly stored; food storage conta...</td>\n      <td>OUT OF COMPLIANCE</td>\n    </tr>\n    <tr>\n      <th>DAGIMR9TX</th>\n      <td>4</td>\n      <td>F023</td>\n      <td># 23. No rodents, insects, birds, or animals</td>\n      <td>OUT OF COMPLIANCE</td>\n    </tr>\n    <tr>\n      <th>DA8F4OBI6</th>\n      <td>1</td>\n      <td>F033</td>\n      <td># 33. Nonfood-contact surfaces clean and in go...</td>\n      <td>OUT OF COMPLIANCE</td>\n    </tr>\n    <tr>\n      <th>DAX6M0SXX</th>\n      <td>4</td>\n      <td>F007</td>\n      <td># 07. Proper hot and cold holding temperatures</td>\n      <td>OUT OF COMPLIANCE</td>\n    </tr>\n    <tr>\n      <th>DAU1FV0OW</th>\n      <td>1</td>\n      <td>F025</td>\n      <td># 25. Personal cleanliness and hair restraints</td>\n      <td>OUT OF COMPLIANCE</td>\n    </tr>\n    <tr>\n      <th>DAJDL92QL</th>\n      <td>1</td>\n      <td>F043</td>\n      <td># 43. Premises; personal/cleaning items; vermi...</td>\n      <td>OUT OF COMPLIANCE</td>\n    </tr>\n    <tr>\n      <th>DANVYKY0K</th>\n      <td>1</td>\n      <td>F043</td>\n      <td># 43. Premises; personal/cleaning items; vermi...</td>\n      <td>OUT OF COMPLIANCE</td>\n    </tr>\n    <tr>\n      <th>DAL0YBDN9</th>\n      <td>1</td>\n      <td>F035</td>\n      <td># 35. Equipment/Utensils - approved; installed...</td>\n      <td>OUT OF COMPLIANCE</td>\n    </tr>\n    <tr>\n      <th>DAUVZTFQZ</th>\n      <td>1</td>\n      <td>F043</td>\n      <td># 43. Premises; personal/cleaning items; vermi...</td>\n      <td>OUT OF COMPLIANCE</td>\n    </tr>\n    <tr>\n      <th>DA63WQLNO</th>\n      <td>1</td>\n      <td>F035</td>\n      <td># 35. Equipment/Utensils - approved; installed...</td>\n      <td>OUT OF COMPLIANCE</td>\n    </tr>\n    <tr>\n      <th>DAFNL0P8A</th>\n      <td>4</td>\n      <td>F014</td>\n      <td># 14. Food contact surfaces: clean and sanitized</td>\n      <td>OUT OF COMPLIANCE</td>\n    </tr>\n    <tr>\n      <th>DAED0U1WP</th>\n      <td>1</td>\n      <td>F039</td>\n      <td># 39. Wiping cloths: properly used and stored</td>\n      <td>OUT OF COMPLIANCE</td>\n    </tr>\n    <tr>\n      <th>DAIRN2H9V</th>\n      <td>2</td>\n      <td>F052</td>\n      <td># 01b. Food safety certification</td>\n      <td>OUT OF COMPLIANCE</td>\n    </tr>\n    <tr>\n      <th>DALJFNFQJ</th>\n      <td>1</td>\n      <td>F046</td>\n      <td># 46. Signs posted; last inspection report ava...</td>\n      <td>OUT OF COMPLIANCE</td>\n    </tr>\n    <tr>\n      <th>DAYXNTRGO</th>\n      <td>1</td>\n      <td>F030</td>\n      <td># 30. Food properly stored; food storage conta...</td>\n      <td>OUT OF COMPLIANCE</td>\n    </tr>\n    <tr>\n      <th>DASOASBXJ</th>\n      <td>1</td>\n      <td>F044</td>\n      <td># 44. Floors, walls and ceilings: properly bui...</td>\n      <td>OUT OF COMPLIANCE</td>\n    </tr>\n    <tr>\n      <th>DAK5JDQ6Y</th>\n      <td>1</td>\n      <td>F035</td>\n      <td># 35. Equipment/Utensils - approved; installed...</td>\n      <td>OUT OF COMPLIANCE</td>\n    </tr>\n    <tr>\n      <th>DAO5SUXSQ</th>\n      <td>1</td>\n      <td>F033</td>\n      <td># 33. Nonfood-contact surfaces clean and in go...</td>\n      <td>OUT OF COMPLIANCE</td>\n    </tr>\n    <tr>\n      <th>DABUQQDDO</th>\n      <td>2</td>\n      <td>F023</td>\n      <td># 23. No rodents, insects, birds, or animals</td>\n      <td>OUT OF COMPLIANCE</td>\n    </tr>\n    <tr>\n      <th>DABV04BNM</th>\n      <td>1</td>\n      <td>F046</td>\n      <td># 46. Signs posted; last inspection report ava...</td>\n      <td>OUT OF COMPLIANCE</td>\n    </tr>\n    <tr>\n      <th>DALOVITGM</th>\n      <td>2</td>\n      <td>F001</td>\n      <td># 01a. Demonstration of knowledge</td>\n      <td>OUT OF COMPLIANCE</td>\n    </tr>\n    <tr>\n      <th>DANVC18XM</th>\n      <td>1</td>\n      <td>F034</td>\n      <td># 34. Warewashing facilities: Adequate, mainta...</td>\n      <td>OUT OF COMPLIANCE</td>\n    </tr>\n    <tr>\n      <th>DAFICC8TU</th>\n      <td>2</td>\n      <td>F014</td>\n      <td># 14. Food contact surfaces: clean and sanitized</td>\n      <td>OUT OF COMPLIANCE</td>\n    </tr>\n    <tr>\n      <th>DAK5CJ7VO</th>\n      <td>1</td>\n      <td>F043</td>\n      <td># 43. Premises; personal/cleaning items; vermi...</td>\n      <td>OUT OF COMPLIANCE</td>\n    </tr>\n    <tr>\n      <th>DAZ6F4RGR</th>\n      <td>1</td>\n      <td>F025</td>\n      <td># 25. Personal cleanliness and hair restraints</td>\n      <td>OUT OF COMPLIANCE</td>\n    </tr>\n    <tr>\n      <th>DAIHLN68K</th>\n      <td>1</td>\n      <td>F033</td>\n      <td># 33. Nonfood-contact surfaces clean and in go...</td>\n      <td>OUT OF COMPLIANCE</td>\n    </tr>\n  </tbody>\n</table>\n<p>906014 rows × 4 columns</p>\n</div>",
            "text/plain": "               points violation_code  \\\nserial_number                          \nDAJ5UNMSF           1           F044   \nDAT2HKIRE           4           F007   \nDAT2HKIRE           1           F033   \nDAT2HKIRE           1           F035   \nDAQN0I8EA           1           F033   \nDAQN0I8EA           2           F007   \nDAQN0I8EA           1           F035   \nDAQN0I8EA           2           F014   \nDAQN0I8EA           1           F036   \nDAQN0I8EA           1           F044   \nDAQN0I8EA           1           F034   \nDALVZ4JUV           1           F035   \nDALVZ4JUV           2           F007   \nDALVZ4JUV           1           F040   \nDALVZ4JUV           2           F006   \nDAXJXWTVO           1           F036   \nDAXJXWTVO           1           F033   \nDAXJXWTVO           1           F044   \nDAXJXWTVO           1           F035   \nDAXJXWTVO           1           F038   \nDAXJXWTVO           4           F007   \nDA7KZFE4Q           1           F043   \nDA7KZFE4Q           1           F039   \nDA7KZFE4Q           1           F044   \nDA7KZFE4Q           1           F033   \nDASN4EKRV           1           F044   \nDASN4EKRV           1           F036   \nDASN4EKRV           1           F048   \nDASN4EKRV           1           F046   \nDASN4EKRV           1           F037   \n...               ...            ...   \nDARMMDOQJ           4           F007   \nDAGPT1SCB           1           F035   \nDAVOL5QAQ           1           F041   \nDA60WCKK0           1           F034   \nDA3WIW498           1           F030   \nDAGIMR9TX           4           F023   \nDA8F4OBI6           1           F033   \nDAX6M0SXX           4           F007   \nDAU1FV0OW           1           F025   \nDAJDL92QL           1           F043   \nDANVYKY0K           1           F043   \nDAL0YBDN9           1           F035   \nDAUVZTFQZ           1           F043   \nDA63WQLNO           1           F035   \nDAFNL0P8A           4           F014   \nDAED0U1WP           1           F039   \nDAIRN2H9V           2           F052   \nDALJFNFQJ           1           F046   \nDAYXNTRGO           1           F030   \nDASOASBXJ           1           F044   \nDAK5JDQ6Y           1           F035   \nDAO5SUXSQ           1           F033   \nDABUQQDDO           2           F023   \nDABV04BNM           1           F046   \nDALOVITGM           2           F001   \nDANVC18XM           1           F034   \nDAFICC8TU           2           F014   \nDAK5CJ7VO           1           F043   \nDAZ6F4RGR           1           F025   \nDAIHLN68K           1           F033   \n\n                                           violation_description  \\\nserial_number                                                      \nDAJ5UNMSF      # 44. Floors, walls and ceilings: properly bui...   \nDAT2HKIRE         # 07. Proper hot and cold holding temperatures   \nDAT2HKIRE      # 33. Nonfood-contact surfaces clean and in go...   \nDAT2HKIRE      # 35. Equipment/Utensils - approved; installed...   \nDAQN0I8EA      # 33. Nonfood-contact surfaces clean and in go...   \nDAQN0I8EA         # 07. Proper hot and cold holding temperatures   \nDAQN0I8EA      # 35. Equipment/Utensils - approved; installed...   \nDAQN0I8EA       # 14. Food contact surfaces: clean and sanitized   \nDAQN0I8EA      # 36. Equipment, utensils and linens: storage ...   \nDAQN0I8EA      # 44. Floors, walls and ceilings: properly bui...   \nDAQN0I8EA      # 34. Warewashing facilities: Adequate, mainta...   \nDALVZ4JUV      # 35. Equipment/Utensils - approved; installed...   \nDALVZ4JUV         # 07. Proper hot and cold holding temperatures   \nDALVZ4JUV      # 40. Plumbing: Plumbing in good repair, prope...   \nDALVZ4JUV      # 06. Adequate handwashing facilities supplied...   \nDAXJXWTVO      # 36. Equipment, utensils and linens: storage ...   \nDAXJXWTVO      # 33. Nonfood-contact surfaces clean and in go...   \nDAXJXWTVO      # 44. Floors, walls and ceilings: properly bui...   \nDAXJXWTVO      # 35. Equipment/Utensils - approved; installed...   \nDAXJXWTVO               # 38. Thermometers provided and accurate   \nDAXJXWTVO         # 07. Proper hot and cold holding temperatures   \nDA7KZFE4Q      # 43. Premises; personal/cleaning items; vermi...   \nDA7KZFE4Q          # 39. Wiping cloths: properly used and stored   \nDA7KZFE4Q      # 44. Floors, walls and ceilings: properly bui...   \nDA7KZFE4Q      # 33. Nonfood-contact surfaces clean and in go...   \nDASN4EKRV      # 44. Floors, walls and ceilings: properly bui...   \nDASN4EKRV      # 36. Equipment, utensils and linens: storage ...   \nDASN4EKRV                                # 47. Permits Available   \nDASN4EKRV      # 46. Signs posted; last inspection report ava...   \nDASN4EKRV      # 37. Adequate ventilation and lighting; desig...   \n...                                                          ...   \nDARMMDOQJ         # 07. Proper hot and cold holding temperatures   \nDAGPT1SCB      # 35. Equipment/Utensils - approved; installed...   \nDAVOL5QAQ      # 41. Garbage and refuse properly disposed; fa...   \nDA60WCKK0      # 34. Warewashing facilities: Adequate, mainta...   \nDA3WIW498      # 30. Food properly stored; food storage conta...   \nDAGIMR9TX           # 23. No rodents, insects, birds, or animals   \nDA8F4OBI6      # 33. Nonfood-contact surfaces clean and in go...   \nDAX6M0SXX         # 07. Proper hot and cold holding temperatures   \nDAU1FV0OW         # 25. Personal cleanliness and hair restraints   \nDAJDL92QL      # 43. Premises; personal/cleaning items; vermi...   \nDANVYKY0K      # 43. Premises; personal/cleaning items; vermi...   \nDAL0YBDN9      # 35. Equipment/Utensils - approved; installed...   \nDAUVZTFQZ      # 43. Premises; personal/cleaning items; vermi...   \nDA63WQLNO      # 35. Equipment/Utensils - approved; installed...   \nDAFNL0P8A       # 14. Food contact surfaces: clean and sanitized   \nDAED0U1WP          # 39. Wiping cloths: properly used and stored   \nDAIRN2H9V                       # 01b. Food safety certification   \nDALJFNFQJ      # 46. Signs posted; last inspection report ava...   \nDAYXNTRGO      # 30. Food properly stored; food storage conta...   \nDASOASBXJ      # 44. Floors, walls and ceilings: properly bui...   \nDAK5JDQ6Y      # 35. Equipment/Utensils - approved; installed...   \nDAO5SUXSQ      # 33. Nonfood-contact surfaces clean and in go...   \nDABUQQDDO           # 23. No rodents, insects, birds, or animals   \nDABV04BNM      # 46. Signs posted; last inspection report ava...   \nDALOVITGM                      # 01a. Demonstration of knowledge   \nDANVC18XM      # 34. Warewashing facilities: Adequate, mainta...   \nDAFICC8TU       # 14. Food contact surfaces: clean and sanitized   \nDAK5CJ7VO      # 43. Premises; personal/cleaning items; vermi...   \nDAZ6F4RGR         # 25. Personal cleanliness and hair restraints   \nDAIHLN68K      # 33. Nonfood-contact surfaces clean and in go...   \n\n                violation_status  \nserial_number                     \nDAJ5UNMSF      OUT OF COMPLIANCE  \nDAT2HKIRE      OUT OF COMPLIANCE  \nDAT2HKIRE      OUT OF COMPLIANCE  \nDAT2HKIRE      OUT OF COMPLIANCE  \nDAQN0I8EA      OUT OF COMPLIANCE  \nDAQN0I8EA      OUT OF COMPLIANCE  \nDAQN0I8EA      OUT OF COMPLIANCE  \nDAQN0I8EA      OUT OF COMPLIANCE  \nDAQN0I8EA      OUT OF COMPLIANCE  \nDAQN0I8EA      OUT OF COMPLIANCE  \nDAQN0I8EA      OUT OF COMPLIANCE  \nDALVZ4JUV      OUT OF COMPLIANCE  \nDALVZ4JUV      OUT OF COMPLIANCE  \nDALVZ4JUV      OUT OF COMPLIANCE  \nDALVZ4JUV      OUT OF COMPLIANCE  \nDAXJXWTVO      OUT OF COMPLIANCE  \nDAXJXWTVO      OUT OF COMPLIANCE  \nDAXJXWTVO      OUT OF COMPLIANCE  \nDAXJXWTVO      OUT OF COMPLIANCE  \nDAXJXWTVO      OUT OF COMPLIANCE  \nDAXJXWTVO      OUT OF COMPLIANCE  \nDA7KZFE4Q      OUT OF COMPLIANCE  \nDA7KZFE4Q      OUT OF COMPLIANCE  \nDA7KZFE4Q      OUT OF COMPLIANCE  \nDA7KZFE4Q      OUT OF COMPLIANCE  \nDASN4EKRV      OUT OF COMPLIANCE  \nDASN4EKRV      OUT OF COMPLIANCE  \nDASN4EKRV      OUT OF COMPLIANCE  \nDASN4EKRV      OUT OF COMPLIANCE  \nDASN4EKRV      OUT OF COMPLIANCE  \n...                          ...  \nDARMMDOQJ      OUT OF COMPLIANCE  \nDAGPT1SCB      OUT OF COMPLIANCE  \nDAVOL5QAQ      OUT OF COMPLIANCE  \nDA60WCKK0      OUT OF COMPLIANCE  \nDA3WIW498      OUT OF COMPLIANCE  \nDAGIMR9TX      OUT OF COMPLIANCE  \nDA8F4OBI6      OUT OF COMPLIANCE  \nDAX6M0SXX      OUT OF COMPLIANCE  \nDAU1FV0OW      OUT OF COMPLIANCE  \nDAJDL92QL      OUT OF COMPLIANCE  \nDANVYKY0K      OUT OF COMPLIANCE  \nDAL0YBDN9      OUT OF COMPLIANCE  \nDAUVZTFQZ      OUT OF COMPLIANCE  \nDA63WQLNO      OUT OF COMPLIANCE  \nDAFNL0P8A      OUT OF COMPLIANCE  \nDAED0U1WP      OUT OF COMPLIANCE  \nDAIRN2H9V      OUT OF COMPLIANCE  \nDALJFNFQJ      OUT OF COMPLIANCE  \nDAYXNTRGO      OUT OF COMPLIANCE  \nDASOASBXJ      OUT OF COMPLIANCE  \nDAK5JDQ6Y      OUT OF COMPLIANCE  \nDAO5SUXSQ      OUT OF COMPLIANCE  \nDABUQQDDO      OUT OF COMPLIANCE  \nDABV04BNM      OUT OF COMPLIANCE  \nDALOVITGM      OUT OF COMPLIANCE  \nDANVC18XM      OUT OF COMPLIANCE  \nDAFICC8TU      OUT OF COMPLIANCE  \nDAK5CJ7VO      OUT OF COMPLIANCE  \nDAZ6F4RGR      OUT OF COMPLIANCE  \nDAIHLN68K      OUT OF COMPLIANCE  \n\n[906014 rows x 4 columns]"
          },
          "metadata": {}
        }
      ]
    },
    {
      "metadata": {
        "trusted": true
      },
      "cell_type": "code",
      "source": "",
      "execution_count": null,
      "outputs": []
    }
  ],
  "metadata": {
    "kernelspec": {
      "name": "python36",
      "display_name": "Python 3.6",
      "language": "python"
    },
    "language_info": {
      "mimetype": "text/x-python",
      "nbconvert_exporter": "python",
      "name": "python",
      "pygments_lexer": "ipython3",
      "version": "3.6.6",
      "file_extension": ".py",
      "codemirror_mode": {
        "version": 3,
        "name": "ipython"
      }
    }
  },
  "nbformat": 4,
  "nbformat_minor": 2
}